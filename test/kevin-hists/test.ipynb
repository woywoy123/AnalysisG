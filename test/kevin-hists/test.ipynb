{
 "cells": [
  {
   "cell_type": "code",
   "execution_count": 1,
   "id": "1f3c1c8d-38af-4574-8a4b-e5a4985cbf63",
   "metadata": {},
   "outputs": [
    {
     "data": {
      "text/html": [
       "<style>.jp-OutputArea-output {display:flex}</style>"
      ],
      "text/plain": [
       "<IPython.core.display.HTML object>"
      ]
     },
     "metadata": {},
     "output_type": "display_data"
    }
   ],
   "source": [
    "# This to allow horizontal scrolling\n",
    "from IPython.display import display, HTML\n",
    "display(HTML(\"<style>.jp-OutputArea-output {display:flex}</style>\"))"
   ]
  },
  {
   "cell_type": "code",
   "execution_count": 2,
   "id": "ee71bedb-7869-4402-9532-f47ad5a23273",
   "metadata": {},
   "outputs": [],
   "source": [
    "%matplotlib inline\n",
    "\n",
    "import pandas as pd\n",
    "import matplotlib.pyplot as plt\n",
    "import seaborn as sns\n",
    "import numpy as np\n",
    "import uproot\n",
    "import awkward as ak\n",
    "\n",
    "sns.set(style=\"darkgrid\")\n",
    "\n",
    "from hepunits.units import nb, pb, invpb, fb, invfb"
   ]
  },
  {
   "cell_type": "code",
   "execution_count": 3,
   "id": "5911a0e1-3143-46f1-a594-e3dbdfcae4fa",
   "metadata": {},
   "outputs": [],
   "source": [
    "pd.set_option('display.width', 1000)\n",
    "pd.set_option('display.max_columns', None)  \n",
    "pd.set_option('display.max_rows', None)\n",
    "pd.set_option('display.expand_frame_repr', True)\n",
    "pd.set_option('max_colwidth', None)"
   ]
  },
  {
   "cell_type": "markdown",
   "id": "ec40c845-8020-400f-9764-81fb93fe3cac",
   "metadata": {},
   "source": [
    "Let's look at the tttt sample"
   ]
  },
  {
   "cell_type": "code",
   "execution_count": 4,
   "id": "bb0908d9-16d9-4cdf-8db4-9bed4deb7302",
   "metadata": {},
   "outputs": [
    {
     "data": {
      "text/plain": [
       "{'weight_mc': 'float',\n",
       " 'weight_pileup': 'float',\n",
       " 'weight_leptonSF': 'float',\n",
       " 'weight_globalLeptonTriggerSF': 'float',\n",
       " 'weight_oldTriggerSF': 'float',\n",
       " 'weight_bTagSF_DL1_77': 'float',\n",
       " 'weight_bTagSF_DL1r_77': 'float',\n",
       " 'weight_bTagSF_DL1_70': 'float',\n",
       " 'weight_bTagSF_DL1r_70': 'float',\n",
       " 'weight_bTagSF_DL1_60': 'float',\n",
       " 'weight_bTagSF_DL1r_60': 'float',\n",
       " 'weight_bTagSF_DL1_85': 'float',\n",
       " 'weight_bTagSF_DL1r_85': 'float',\n",
       " 'weight_jvt': 'float',\n",
       " 'weight_pileup_UP': 'float',\n",
       " 'weight_pileup_DOWN': 'float',\n",
       " 'weight_leptonSF_EL_SF_Trigger_UP': 'float',\n",
       " 'weight_leptonSF_EL_SF_Trigger_DOWN': 'float',\n",
       " 'weight_leptonSF_EL_SF_Reco_UP': 'float',\n",
       " 'weight_leptonSF_EL_SF_Reco_DOWN': 'float',\n",
       " 'weight_leptonSF_EL_SF_ID_UP': 'float',\n",
       " 'weight_leptonSF_EL_SF_ID_DOWN': 'float',\n",
       " 'weight_leptonSF_EL_SF_Isol_UP': 'float',\n",
       " 'weight_leptonSF_EL_SF_Isol_DOWN': 'float',\n",
       " 'weight_leptonSF_MU_SF_Trigger_STAT_UP': 'float',\n",
       " 'weight_leptonSF_MU_SF_Trigger_STAT_DOWN': 'float',\n",
       " 'weight_leptonSF_MU_SF_Trigger_SYST_UP': 'float',\n",
       " 'weight_leptonSF_MU_SF_Trigger_SYST_DOWN': 'float',\n",
       " 'weight_leptonSF_MU_SF_ID_STAT_UP': 'float',\n",
       " 'weight_leptonSF_MU_SF_ID_STAT_DOWN': 'float',\n",
       " 'weight_leptonSF_MU_SF_ID_STAT_LOWPT_UP': 'float',\n",
       " 'weight_leptonSF_MU_SF_ID_STAT_LOWPT_DOWN': 'float',\n",
       " 'weight_leptonSF_MU_SF_ID_SYST_LOWPT_UP': 'float',\n",
       " 'weight_leptonSF_MU_SF_ID_SYST_LOWPT_DOWN': 'float',\n",
       " 'weight_leptonSF_MU_SF_ID_SYST_UP': 'float',\n",
       " 'weight_leptonSF_MU_SF_ID_SYST_DOWN': 'float',\n",
       " 'weight_leptonSF_MU_SF_Isol_STAT_UP': 'float',\n",
       " 'weight_leptonSF_MU_SF_Isol_STAT_DOWN': 'float',\n",
       " 'weight_leptonSF_MU_SF_Isol_SYST_UP': 'float',\n",
       " 'weight_leptonSF_MU_SF_Isol_SYST_DOWN': 'float',\n",
       " 'weight_leptonSF_MU_SF_TTVA_STAT_UP': 'float',\n",
       " 'weight_leptonSF_MU_SF_TTVA_STAT_DOWN': 'float',\n",
       " 'weight_leptonSF_MU_SF_TTVA_SYST_UP': 'float',\n",
       " 'weight_leptonSF_MU_SF_TTVA_SYST_DOWN': 'float',\n",
       " 'weight_globalLeptonTriggerSF_EL_Trigger_UP': 'float',\n",
       " 'weight_globalLeptonTriggerSF_EL_Trigger_DOWN': 'float',\n",
       " 'weight_globalLeptonTriggerSF_MU_Trigger_STAT_UP': 'float',\n",
       " 'weight_globalLeptonTriggerSF_MU_Trigger_STAT_DOWN': 'float',\n",
       " 'weight_globalLeptonTriggerSF_MU_Trigger_SYST_UP': 'float',\n",
       " 'weight_globalLeptonTriggerSF_MU_Trigger_SYST_DOWN': 'float',\n",
       " 'weight_oldTriggerSF_EL_Trigger_UP': 'float',\n",
       " 'weight_oldTriggerSF_EL_Trigger_DOWN': 'float',\n",
       " 'weight_oldTriggerSF_MU_Trigger_STAT_UP': 'float',\n",
       " 'weight_oldTriggerSF_MU_Trigger_STAT_DOWN': 'float',\n",
       " 'weight_oldTriggerSF_MU_Trigger_SYST_UP': 'float',\n",
       " 'weight_oldTriggerSF_MU_Trigger_SYST_DOWN': 'float',\n",
       " 'weight_indiv_SF_EL_Reco': 'float',\n",
       " 'weight_indiv_SF_EL_Reco_UP': 'float',\n",
       " 'weight_indiv_SF_EL_Reco_DOWN': 'float',\n",
       " 'weight_indiv_SF_EL_ID': 'float',\n",
       " 'weight_indiv_SF_EL_ID_UP': 'float',\n",
       " 'weight_indiv_SF_EL_ID_DOWN': 'float',\n",
       " 'weight_indiv_SF_EL_Isol': 'float',\n",
       " 'weight_indiv_SF_EL_Isol_UP': 'float',\n",
       " 'weight_indiv_SF_EL_Isol_DOWN': 'float',\n",
       " 'weight_indiv_SF_EL_ChargeID': 'float',\n",
       " 'weight_indiv_SF_EL_ChargeID_UP': 'float',\n",
       " 'weight_indiv_SF_EL_ChargeID_DOWN': 'float',\n",
       " 'weight_indiv_SF_EL_ChargeMisID': 'float',\n",
       " 'weight_indiv_SF_EL_ChargeMisID_STAT_UP': 'float',\n",
       " 'weight_indiv_SF_EL_ChargeMisID_STAT_DOWN': 'float',\n",
       " 'weight_indiv_SF_EL_ChargeMisID_SYST_UP': 'float',\n",
       " 'weight_indiv_SF_EL_ChargeMisID_SYST_DOWN': 'float',\n",
       " 'weight_indiv_SF_MU_ID': 'float',\n",
       " 'weight_indiv_SF_MU_ID_STAT_UP': 'float',\n",
       " 'weight_indiv_SF_MU_ID_STAT_DOWN': 'float',\n",
       " 'weight_indiv_SF_MU_ID_SYST_UP': 'float',\n",
       " 'weight_indiv_SF_MU_ID_SYST_DOWN': 'float',\n",
       " 'weight_indiv_SF_MU_ID_STAT_LOWPT_UP': 'float',\n",
       " 'weight_indiv_SF_MU_ID_STAT_LOWPT_DOWN': 'float',\n",
       " 'weight_indiv_SF_MU_ID_SYST_LOWPT_UP': 'float',\n",
       " 'weight_indiv_SF_MU_ID_SYST_LOWPT_DOWN': 'float',\n",
       " 'weight_indiv_SF_MU_Isol': 'float',\n",
       " 'weight_indiv_SF_MU_Isol_STAT_UP': 'float',\n",
       " 'weight_indiv_SF_MU_Isol_STAT_DOWN': 'float',\n",
       " 'weight_indiv_SF_MU_Isol_SYST_UP': 'float',\n",
       " 'weight_indiv_SF_MU_Isol_SYST_DOWN': 'float',\n",
       " 'weight_indiv_SF_MU_TTVA': 'float',\n",
       " 'weight_indiv_SF_MU_TTVA_STAT_UP': 'float',\n",
       " 'weight_indiv_SF_MU_TTVA_STAT_DOWN': 'float',\n",
       " 'weight_indiv_SF_MU_TTVA_SYST_UP': 'float',\n",
       " 'weight_indiv_SF_MU_TTVA_SYST_DOWN': 'float',\n",
       " 'weight_jvt_UP': 'float',\n",
       " 'weight_jvt_DOWN': 'float',\n",
       " 'weight_bTagSF_DL1_77_eigenvars_B_up': 'std::vector<float>',\n",
       " 'weight_bTagSF_DL1_77_eigenvars_C_up': 'std::vector<float>',\n",
       " 'weight_bTagSF_DL1_77_eigenvars_Light_up': 'std::vector<float>',\n",
       " 'weight_bTagSF_DL1_77_eigenvars_B_down': 'std::vector<float>',\n",
       " 'weight_bTagSF_DL1_77_eigenvars_C_down': 'std::vector<float>',\n",
       " 'weight_bTagSF_DL1_77_eigenvars_Light_down': 'std::vector<float>',\n",
       " 'weight_bTagSF_DL1_77_extrapolation_up': 'float',\n",
       " 'weight_bTagSF_DL1_77_extrapolation_down': 'float',\n",
       " 'weight_bTagSF_DL1_77_extrapolation_from_charm_up': 'float',\n",
       " 'weight_bTagSF_DL1_77_extrapolation_from_charm_down': 'float',\n",
       " 'weight_bTagSF_DL1r_77_eigenvars_B_up': 'std::vector<float>',\n",
       " 'weight_bTagSF_DL1r_77_eigenvars_C_up': 'std::vector<float>',\n",
       " 'weight_bTagSF_DL1r_77_eigenvars_Light_up': 'std::vector<float>',\n",
       " 'weight_bTagSF_DL1r_77_eigenvars_B_down': 'std::vector<float>',\n",
       " 'weight_bTagSF_DL1r_77_eigenvars_C_down': 'std::vector<float>',\n",
       " 'weight_bTagSF_DL1r_77_eigenvars_Light_down': 'std::vector<float>',\n",
       " 'weight_bTagSF_DL1r_77_extrapolation_up': 'float',\n",
       " 'weight_bTagSF_DL1r_77_extrapolation_down': 'float',\n",
       " 'weight_bTagSF_DL1r_77_extrapolation_from_charm_up': 'float',\n",
       " 'weight_bTagSF_DL1r_77_extrapolation_from_charm_down': 'float',\n",
       " 'weight_bTagSF_DL1_70_eigenvars_B_up': 'std::vector<float>',\n",
       " 'weight_bTagSF_DL1_70_eigenvars_C_up': 'std::vector<float>',\n",
       " 'weight_bTagSF_DL1_70_eigenvars_Light_up': 'std::vector<float>',\n",
       " 'weight_bTagSF_DL1_70_eigenvars_B_down': 'std::vector<float>',\n",
       " 'weight_bTagSF_DL1_70_eigenvars_C_down': 'std::vector<float>',\n",
       " 'weight_bTagSF_DL1_70_eigenvars_Light_down': 'std::vector<float>',\n",
       " 'weight_bTagSF_DL1_70_extrapolation_up': 'float',\n",
       " 'weight_bTagSF_DL1_70_extrapolation_down': 'float',\n",
       " 'weight_bTagSF_DL1_70_extrapolation_from_charm_up': 'float',\n",
       " 'weight_bTagSF_DL1_70_extrapolation_from_charm_down': 'float',\n",
       " 'weight_bTagSF_DL1r_70_eigenvars_B_up': 'std::vector<float>',\n",
       " 'weight_bTagSF_DL1r_70_eigenvars_C_up': 'std::vector<float>',\n",
       " 'weight_bTagSF_DL1r_70_eigenvars_Light_up': 'std::vector<float>',\n",
       " 'weight_bTagSF_DL1r_70_eigenvars_B_down': 'std::vector<float>',\n",
       " 'weight_bTagSF_DL1r_70_eigenvars_C_down': 'std::vector<float>',\n",
       " 'weight_bTagSF_DL1r_70_eigenvars_Light_down': 'std::vector<float>',\n",
       " 'weight_bTagSF_DL1r_70_extrapolation_up': 'float',\n",
       " 'weight_bTagSF_DL1r_70_extrapolation_down': 'float',\n",
       " 'weight_bTagSF_DL1r_70_extrapolation_from_charm_up': 'float',\n",
       " 'weight_bTagSF_DL1r_70_extrapolation_from_charm_down': 'float',\n",
       " 'weight_bTagSF_DL1_60_eigenvars_B_up': 'std::vector<float>',\n",
       " 'weight_bTagSF_DL1_60_eigenvars_C_up': 'std::vector<float>',\n",
       " 'weight_bTagSF_DL1_60_eigenvars_Light_up': 'std::vector<float>',\n",
       " 'weight_bTagSF_DL1_60_eigenvars_B_down': 'std::vector<float>',\n",
       " 'weight_bTagSF_DL1_60_eigenvars_C_down': 'std::vector<float>',\n",
       " 'weight_bTagSF_DL1_60_eigenvars_Light_down': 'std::vector<float>',\n",
       " 'weight_bTagSF_DL1_60_extrapolation_up': 'float',\n",
       " 'weight_bTagSF_DL1_60_extrapolation_down': 'float',\n",
       " 'weight_bTagSF_DL1_60_extrapolation_from_charm_up': 'float',\n",
       " 'weight_bTagSF_DL1_60_extrapolation_from_charm_down': 'float',\n",
       " 'weight_bTagSF_DL1r_60_eigenvars_B_up': 'std::vector<float>',\n",
       " 'weight_bTagSF_DL1r_60_eigenvars_C_up': 'std::vector<float>',\n",
       " 'weight_bTagSF_DL1r_60_eigenvars_Light_up': 'std::vector<float>',\n",
       " 'weight_bTagSF_DL1r_60_eigenvars_B_down': 'std::vector<float>',\n",
       " 'weight_bTagSF_DL1r_60_eigenvars_C_down': 'std::vector<float>',\n",
       " 'weight_bTagSF_DL1r_60_eigenvars_Light_down': 'std::vector<float>',\n",
       " 'weight_bTagSF_DL1r_60_extrapolation_up': 'float',\n",
       " 'weight_bTagSF_DL1r_60_extrapolation_down': 'float',\n",
       " 'weight_bTagSF_DL1r_60_extrapolation_from_charm_up': 'float',\n",
       " 'weight_bTagSF_DL1r_60_extrapolation_from_charm_down': 'float',\n",
       " 'weight_bTagSF_DL1_85_eigenvars_B_up': 'std::vector<float>',\n",
       " 'weight_bTagSF_DL1_85_eigenvars_C_up': 'std::vector<float>',\n",
       " 'weight_bTagSF_DL1_85_eigenvars_Light_up': 'std::vector<float>',\n",
       " 'weight_bTagSF_DL1_85_eigenvars_B_down': 'std::vector<float>',\n",
       " 'weight_bTagSF_DL1_85_eigenvars_C_down': 'std::vector<float>',\n",
       " 'weight_bTagSF_DL1_85_eigenvars_Light_down': 'std::vector<float>',\n",
       " 'weight_bTagSF_DL1_85_extrapolation_up': 'float',\n",
       " 'weight_bTagSF_DL1_85_extrapolation_down': 'float',\n",
       " 'weight_bTagSF_DL1_85_extrapolation_from_charm_up': 'float',\n",
       " 'weight_bTagSF_DL1_85_extrapolation_from_charm_down': 'float',\n",
       " 'weight_bTagSF_DL1r_85_eigenvars_B_up': 'std::vector<float>',\n",
       " 'weight_bTagSF_DL1r_85_eigenvars_C_up': 'std::vector<float>',\n",
       " 'weight_bTagSF_DL1r_85_eigenvars_Light_up': 'std::vector<float>',\n",
       " 'weight_bTagSF_DL1r_85_eigenvars_B_down': 'std::vector<float>',\n",
       " 'weight_bTagSF_DL1r_85_eigenvars_C_down': 'std::vector<float>',\n",
       " 'weight_bTagSF_DL1r_85_eigenvars_Light_down': 'std::vector<float>',\n",
       " 'weight_bTagSF_DL1r_85_extrapolation_up': 'float',\n",
       " 'weight_bTagSF_DL1r_85_extrapolation_down': 'float',\n",
       " 'weight_bTagSF_DL1r_85_extrapolation_from_charm_up': 'float',\n",
       " 'weight_bTagSF_DL1r_85_extrapolation_from_charm_down': 'float',\n",
       " 'eventNumber': 'uint64_t',\n",
       " 'runNumber': 'uint32_t',\n",
       " 'randomRunNumber': 'uint32_t',\n",
       " 'mcChannelNumber': 'uint32_t',\n",
       " 'mu': 'float',\n",
       " 'mu_actual': 'float',\n",
       " 'backgroundFlags': 'uint32_t',\n",
       " 'hasBadMuon': 'uint32_t',\n",
       " 'el_pt': 'std::vector<float>',\n",
       " 'el_eta': 'std::vector<float>',\n",
       " 'el_cl_eta': 'std::vector<float>',\n",
       " 'el_phi': 'std::vector<float>',\n",
       " 'el_e': 'std::vector<float>',\n",
       " 'el_charge': 'std::vector<float>',\n",
       " 'el_topoetcone20': 'std::vector<float>',\n",
       " 'el_ptvarcone20': 'std::vector<float>',\n",
       " 'el_CF': 'std::vector<int8_t>',\n",
       " 'el_d0sig': 'std::vector<float>',\n",
       " 'el_delta_z0_sintheta': 'std::vector<float>',\n",
       " 'el_true_type': 'std::vector<int32_t>',\n",
       " 'el_true_origin': 'std::vector<int32_t>',\n",
       " 'el_true_firstEgMotherTruthType': 'std::vector<int32_t>',\n",
       " 'el_true_firstEgMotherTruthOrigin': 'std::vector<int32_t>',\n",
       " 'el_true_firstEgMotherPdgId': 'std::vector<int32_t>',\n",
       " 'el_true_IFFclass': 'std::vector<int32_t>',\n",
       " 'el_true_isPrompt': 'std::vector<int8_t>',\n",
       " 'el_true_isChargeFl': 'std::vector<int8_t>',\n",
       " 'mu_pt': 'std::vector<float>',\n",
       " 'mu_eta': 'std::vector<float>',\n",
       " 'mu_phi': 'std::vector<float>',\n",
       " 'mu_e': 'std::vector<float>',\n",
       " 'mu_charge': 'std::vector<float>',\n",
       " 'mu_topoetcone20': 'std::vector<float>',\n",
       " 'mu_ptvarcone30': 'std::vector<float>',\n",
       " 'mu_d0sig': 'std::vector<float>',\n",
       " 'mu_delta_z0_sintheta': 'std::vector<float>',\n",
       " 'mu_true_type': 'std::vector<int32_t>',\n",
       " 'mu_true_origin': 'std::vector<int32_t>',\n",
       " 'mu_true_IFFclass': 'std::vector<int32_t>',\n",
       " 'mu_true_isPrompt': 'std::vector<int8_t>',\n",
       " 'jet_pt': 'std::vector<float>',\n",
       " 'jet_eta': 'std::vector<float>',\n",
       " 'jet_phi': 'std::vector<float>',\n",
       " 'jet_e': 'std::vector<float>',\n",
       " 'jet_jvt': 'std::vector<float>',\n",
       " 'jet_truthflav': 'std::vector<int32_t>',\n",
       " 'jet_truthPartonLabel': 'std::vector<int32_t>',\n",
       " 'jet_isTrueHS': 'std::vector<int8_t>',\n",
       " 'jet_truthflavExtended': 'std::vector<int32_t>',\n",
       " 'jet_isbtagged_DL1_77': 'std::vector<int8_t>',\n",
       " 'jet_isbtagged_DL1r_77': 'std::vector<int8_t>',\n",
       " 'jet_isbtagged_DL1_70': 'std::vector<int8_t>',\n",
       " 'jet_isbtagged_DL1r_70': 'std::vector<int8_t>',\n",
       " 'jet_isbtagged_DL1_60': 'std::vector<int8_t>',\n",
       " 'jet_isbtagged_DL1r_60': 'std::vector<int8_t>',\n",
       " 'jet_isbtagged_DL1_85': 'std::vector<int8_t>',\n",
       " 'jet_isbtagged_DL1r_85': 'std::vector<int8_t>',\n",
       " 'jet_DL1': 'std::vector<float>',\n",
       " 'jet_DL1_pb': 'std::vector<float>',\n",
       " 'jet_DL1_pc': 'std::vector<float>',\n",
       " 'jet_DL1_pu': 'std::vector<float>',\n",
       " 'jet_DL1r': 'std::vector<float>',\n",
       " 'jet_DL1r_pb': 'std::vector<float>',\n",
       " 'jet_DL1r_pc': 'std::vector<float>',\n",
       " 'jet_DL1r_pu': 'std::vector<float>',\n",
       " 'rcjet_pt': 'std::vector<float>',\n",
       " 'rcjet_eta': 'std::vector<float>',\n",
       " 'rcjet_phi': 'std::vector<float>',\n",
       " 'rcjet_e': 'std::vector<float>',\n",
       " 'rcjet_d12': 'std::vector<float>',\n",
       " 'rcjet_d23': 'std::vector<float>',\n",
       " 'rcjetsub_pt': 'std::vector<std::vector<float>>',\n",
       " 'rcjetsub_eta': 'std::vector<std::vector<float>>',\n",
       " 'rcjetsub_phi': 'std::vector<std::vector<float>>',\n",
       " 'rcjetsub_e': 'std::vector<std::vector<float>>',\n",
       " 'met_met': 'float',\n",
       " 'met_phi': 'float',\n",
       " 'ee_DL1r': 'int32_t',\n",
       " 'emu_DL1r': 'int32_t',\n",
       " 'mumu_DL1r': 'int32_t',\n",
       " 'eee_DL1r': 'int32_t',\n",
       " 'eemu_DL1r': 'int32_t',\n",
       " 'emumu_DL1r': 'int32_t',\n",
       " 'mumumu_DL1r': 'int32_t',\n",
       " 'HLT_mu26_ivarmedium': 'int8_t',\n",
       " 'HLT_mu50': 'int8_t',\n",
       " 'HLT_e60_lhmedium_nod0': 'int8_t',\n",
       " 'HLT_e140_lhloose_nod0': 'int8_t',\n",
       " 'HLT_e26_lhtight_nod0_ivarloose': 'int8_t',\n",
       " 'el_trigMatch_HLT_e60_lhmedium_nod0': 'std::vector<int8_t>',\n",
       " 'el_trigMatch_HLT_e140_lhloose_nod0': 'std::vector<int8_t>',\n",
       " 'el_trigMatch_HLT_e26_lhtight_nod0_ivarloose': 'std::vector<int8_t>',\n",
       " 'mu_trigMatch_HLT_mu50': 'std::vector<int8_t>',\n",
       " 'mu_trigMatch_HLT_mu26_ivarmedium': 'std::vector<int8_t>',\n",
       " 'truthjets_index': 'std::vector<int32_t>',\n",
       " 'truthjets_pt': 'std::vector<float>',\n",
       " 'truthjets_eta': 'std::vector<float>',\n",
       " 'truthjets_phi': 'std::vector<float>',\n",
       " 'truthjets_e': 'std::vector<float>',\n",
       " 'truthjets_btagged': 'std::vector<int32_t>',\n",
       " 'truthjets_topquarkcount': 'std::vector<int32_t>',\n",
       " 'truthjets_wbosoncount': 'std::vector<int32_t>',\n",
       " 'truthjets_TopIndex': 'std::vector<std::vector<int32_t>>',\n",
       " 'jet_index': 'std::vector<int32_t>',\n",
       " 'jet_TopIndex': 'std::vector<std::vector<int32_t>>',\n",
       " 'top_index': 'std::vector<int32_t>',\n",
       " 'top_pt': 'std::vector<float>',\n",
       " 'top_e': 'std::vector<float>',\n",
       " 'top_eta': 'std::vector<float>',\n",
       " 'top_phi': 'std::vector<float>',\n",
       " 'top_charge': 'std::vector<float>',\n",
       " 'top_pdgid': 'std::vector<int32_t>',\n",
       " 'top_FromRes': 'std::vector<int32_t>',\n",
       " 'top_status': 'std::vector<int32_t>',\n",
       " 'children_index': 'std::vector<std::vector<int32_t>>',\n",
       " 'children_pt': 'std::vector<std::vector<float>>',\n",
       " 'children_e': 'std::vector<std::vector<float>>',\n",
       " 'children_eta': 'std::vector<std::vector<float>>',\n",
       " 'children_phi': 'std::vector<std::vector<float>>',\n",
       " 'children_charge': 'std::vector<std::vector<float>>',\n",
       " 'children_pdgid': 'std::vector<std::vector<int32_t>>',\n",
       " 'children_TopIndex': 'std::vector<std::vector<int32_t>>',\n",
       " 'TJparton_index': 'std::vector<int32_t>',\n",
       " 'TJparton_TruthJetIndex': 'std::vector<int32_t>',\n",
       " 'TJparton_ChildIndex': 'std::vector<std::vector<int32_t>>',\n",
       " 'TJparton_pt': 'std::vector<float>',\n",
       " 'TJparton_eta': 'std::vector<float>',\n",
       " 'TJparton_phi': 'std::vector<float>',\n",
       " 'TJparton_e': 'std::vector<float>',\n",
       " 'TJparton_charge': 'std::vector<float>',\n",
       " 'TJparton_pdgid': 'std::vector<float>',\n",
       " 'Jparton_index': 'std::vector<int32_t>',\n",
       " 'Jparton_JetIndex': 'std::vector<int32_t>',\n",
       " 'Jparton_ChildIndex': 'std::vector<std::vector<int32_t>>',\n",
       " 'Jparton_pt': 'std::vector<float>',\n",
       " 'Jparton_eta': 'std::vector<float>',\n",
       " 'Jparton_phi': 'std::vector<float>',\n",
       " 'Jparton_e': 'std::vector<float>',\n",
       " 'Jparton_charge': 'std::vector<float>',\n",
       " 'Jparton_pdgid': 'std::vector<float>'}"
      ]
     },
     "execution_count": 4,
     "metadata": {},
     "output_type": "execute_result"
    }
   ],
   "source": [
    "file1 = uproot.open(\"/import/wu1/tnom6927/Processed/Dilepton/tttt/DAOD_TOPQ1.27733779._000001.root\")\n",
    "file2 = uproot.open(\"/import/wu1/tnom6927/Processed/Dilepton/tttt/DAOD_TOPQ1.27733779._000002.root\")\n",
    "file =  uproot.open(\"/import/wu1/atlas/multitop/ntuples/MC16/tttt.root\")\n",
    "nominal1 = file1[\"nominal\"]\n",
    "nominal2 = file2[\"nominal\"]\n",
    "nominal  = file[\"nominal\"]\n",
    "nominal.typenames()"
   ]
  },
  {
   "cell_type": "code",
   "execution_count": 5,
   "id": "876ce594-d0f5-48c1-8b1d-91610b59583f",
   "metadata": {},
   "outputs": [
    {
     "name": "stdout",
     "output_type": "stream",
     "text": [
      "628 658 834733\n"
     ]
    }
   ],
   "source": [
    "el_pt_1 = nominal1[\"el_pt\"].array()\n",
    "el_pt_2 = nominal2[\"el_pt\"].array()\n",
    "el_pt   = nominal[\"el_pt\"].array()\n",
    "mu_pt   = nominal[\"mu_pt\"].array()\n",
    "print(len(el_pt_1), len(el_pt_2), len(el_pt))"
   ]
  },
  {
   "cell_type": "code",
   "execution_count": 6,
   "id": "a7cf1e76-ad89-45cc-989d-4501c4995c8f",
   "metadata": {},
   "outputs": [],
   "source": [
    "# nominal.all_members\n",
    "# nominal.typenames()\n",
    "# nominal.show()"
   ]
  },
  {
   "cell_type": "code",
   "execution_count": 7,
   "id": "4836c566-ef60-44b6-a608-7a4b1a3f809f",
   "metadata": {},
   "outputs": [
    {
     "name": "stdout",
     "output_type": "stream",
     "text": [
      "[[7.94e+04, 7.19e+04],\n",
      " [],\n",
      " [],\n",
      " [5.47e+04],\n",
      " [2.8e+04],\n",
      " [],\n",
      " [7.9e+04, 3.16e+04],\n",
      " [2.27e+05, 2.12e+05],\n",
      " [1.1e+05],\n",
      " [7.96e+04],\n",
      " ...,\n",
      " [],\n",
      " [1.03e+05],\n",
      " [4.72e+04],\n",
      " [3.48e+04],\n",
      " [],\n",
      " [],\n",
      " [6.86e+04],\n",
      " [],\n",
      " []]\n"
     ]
    }
   ],
   "source": [
    "el_pt.show()"
   ]
  },
  {
   "cell_type": "code",
   "execution_count": 8,
   "id": "8e528aff-0de1-48ff-8462-1520d14c9ae7",
   "metadata": {},
   "outputs": [
    {
     "name": "stdout",
     "output_type": "stream",
     "text": [
      "[[7.05e+04],\n",
      " [1.78e+05, 5.95e+04],\n",
      " [9.23e+04, 2.82e+04],\n",
      " [7.11e+04],\n",
      " [3.23e+05],\n",
      " [1.27e+05, 1.14e+05],\n",
      " [],\n",
      " [],\n",
      " [3.56e+04],\n",
      " [4.26e+04],\n",
      " ...,\n",
      " [7.85e+04, 5.45e+04],\n",
      " [1.42e+05, 1.09e+05],\n",
      " [7.51e+04],\n",
      " [4.18e+04],\n",
      " [2.89e+05, 1.17e+05],\n",
      " [1.06e+05, 3.06e+04],\n",
      " [1.9e+05],\n",
      " [2.15e+05, 4.1e+04],\n",
      " [1.41e+05, 4.89e+04]]\n"
     ]
    }
   ],
   "source": [
    "mu_pt.show()"
   ]
  },
  {
   "cell_type": "code",
   "execution_count": 9,
   "id": "a8ed7b90-09dc-4d95-8552-201464238e9f",
   "metadata": {},
   "outputs": [
    {
     "data": {
      "text/plain": [
       "834733"
      ]
     },
     "execution_count": 9,
     "metadata": {},
     "output_type": "execute_result"
    }
   ],
   "source": [
    "len(el_pt)"
   ]
  },
  {
   "cell_type": "code",
   "execution_count": 10,
   "id": "58b41743-6474-4987-a6f5-38f21ded0807",
   "metadata": {},
   "outputs": [
    {
     "data": {
      "text/html": [
       "<pre>[2,\n",
       " 0,\n",
       " 0,\n",
       " 1,\n",
       " 1,\n",
       " 0,\n",
       " 2,\n",
       " 2,\n",
       " 1,\n",
       " 1,\n",
       " ...,\n",
       " 0,\n",
       " 1,\n",
       " 1,\n",
       " 1,\n",
       " 0,\n",
       " 0,\n",
       " 1,\n",
       " 0,\n",
       " 0]\n",
       "--------------------\n",
       "type: 834733 * int64</pre>"
      ],
      "text/plain": [
       "<Array [2, 0, 0, 1, 1, 0, 2, 2, ..., 1, 1, 0, 0, 1, 0, 0] type='834733 * int64'>"
      ]
     },
     "execution_count": 10,
     "metadata": {},
     "output_type": "execute_result"
    }
   ],
   "source": [
    "ak.num(el_pt, axis=1)"
   ]
  },
  {
   "cell_type": "code",
   "execution_count": 11,
   "id": "5ee5c088-40bc-4f6a-9f69-774604365e3c",
   "metadata": {},
   "outputs": [
    {
     "name": "stdout",
     "output_type": "stream",
     "text": [
      "[[7.94e+04, 7.19e+04, 7.05e+04],\n",
      " [1.78e+05, 5.95e+04],\n",
      " [9.23e+04, 2.82e+04],\n",
      " [5.47e+04, 7.11e+04],\n",
      " [2.8e+04, 3.23e+05],\n",
      " [1.27e+05, 1.14e+05],\n",
      " [7.9e+04, 3.16e+04],\n",
      " [2.27e+05, 2.12e+05],\n",
      " [1.1e+05, 3.56e+04],\n",
      " [7.96e+04, 4.26e+04],\n",
      " ...,\n",
      " [7.85e+04, 5.45e+04],\n",
      " [1.03e+05, 1.42e+05, 1.09e+05],\n",
      " [4.72e+04, 7.51e+04],\n",
      " [3.48e+04, 4.18e+04],\n",
      " [2.89e+05, 1.17e+05],\n",
      " [1.06e+05, 3.06e+04],\n",
      " [6.86e+04, 1.9e+05],\n",
      " [2.15e+05, 4.1e+04],\n",
      " [1.41e+05, 4.89e+04]]\n"
     ]
    }
   ],
   "source": [
    "lep_pt = ak.concatenate([el_pt, mu_pt], axis=1)\n",
    "lep_pt.show()"
   ]
  },
  {
   "cell_type": "code",
   "execution_count": 12,
   "id": "f51016da-6a29-4e12-892c-3e715afc891b",
   "metadata": {},
   "outputs": [],
   "source": [
    "import boost_histogram as bh\n",
    "import matplotlib.pyplot as plt\n",
    "\n",
    "import mplhep as hep\n",
    "#plt.style.use(hep.style.ATLAS)"
   ]
  },
  {
   "cell_type": "code",
   "execution_count": 13,
   "id": "8761bcbb-f1b3-405d-b159-d275b63db60c",
   "metadata": {},
   "outputs": [],
   "source": [
    "hist1 = bh.Histogram(bh.axis.Integer(0, 5, metadata=\"Number of electrons\"))\n",
    "hist2 = bh.Histogram(bh.axis.Integer(0, 5, metadata=\"Number of muons\"))"
   ]
  },
  {
   "cell_type": "code",
   "execution_count": 14,
   "id": "61e9bde2-b6e8-4892-81a5-8dac9083851d",
   "metadata": {},
   "outputs": [
    {
     "data": {
      "text/plain": [
       "Histogram(Integer(0, 5, metadata='Number of muons'), storage=Double()) # Sum: 834733.0"
      ]
     },
     "execution_count": 14,
     "metadata": {},
     "output_type": "execute_result"
    }
   ],
   "source": [
    "hist1.fill(ak.num(el_pt, axis=1))\n",
    "hist2.fill(ak.num(mu_pt, axis=1))"
   ]
  },
  {
   "cell_type": "code",
   "execution_count": 15,
   "id": "95d9dd7c-d52d-43f6-be71-9fc677ce7295",
   "metadata": {},
   "outputs": [
    {
     "data": {
      "text/plain": [
       "[StairsArtists(stairs=<matplotlib.patches.StepPatch object at 0x7f81b3afdc90>, errorbar=<ErrorbarContainer object of 3 artists>, legend_artist=<ErrorbarContainer object of 3 artists>)]"
      ]
     },
     "execution_count": 15,
     "metadata": {},
     "output_type": "execute_result"
    },
    {
     "data": {
      "image/png": "[encoded data removed]",
      "text/plain": [
       "<Figure size 640x480 with 1 Axes>"
      ]
     },
     "metadata": {},
     "output_type": "display_data"
    }
   ],
   "source": [
    "hep.histplot(hist1)"
   ]
  },
  {
   "cell_type": "code",
   "execution_count": 16,
   "id": "b580044e-9720-4c67-ae7d-701a561877f7",
   "metadata": {},
   "outputs": [
    {
     "name": "stdout",
     "output_type": "stream",
     "text": [
      "          ┌──────────────────────────────────────────────────────────────────┐\n",
      "-1 0      │                                                                  │\n",
      " 0 259614 │█████████████████████████████████████████▌                        │\n",
      " 1 406486 │█████████████████████████████████████████████████████████████████ │\n",
      " 2 162810 │██████████████████████████                                        │\n",
      " 3 5823   │▉                                                                 │\n",
      " 4 0      │                                                                  │\n",
      " 5 0      │                                                                  │\n",
      "          └──────────────────────────────────────────────────────────────────┘\n"
     ]
    }
   ],
   "source": [
    "print(hist1)"
   ]
  },
  {
   "cell_type": "code",
   "execution_count": 17,
   "id": "6a0d35fa-9624-400f-b60a-8cc1e83449e0",
   "metadata": {},
   "outputs": [
    {
     "data": {
      "text/plain": [
       "[StairsArtists(stairs=<matplotlib.patches.StepPatch object at 0x7f827a202350>, errorbar=<ErrorbarContainer object of 3 artists>, legend_artist=<ErrorbarContainer object of 3 artists>)]"
      ]
     },
     "execution_count": 17,
     "metadata": {},
     "output_type": "execute_result"
    },
    {
     "data": {
      "image/png": "[encoded data removed]",
      "text/plain": [
       "<Figure size 640x480 with 1 Axes>"
      ]
     },
     "metadata": {},
     "output_type": "display_data"
    }
   ],
   "source": [
    "hep.histplot(hist2)"
   ]
  },
  {
   "cell_type": "code",
   "execution_count": 18,
   "id": "a845b87a-5898-4cad-913b-08f895c8e004",
   "metadata": {},
   "outputs": [
    {
     "name": "stdout",
     "output_type": "stream",
     "text": [
      "          ┌──────────────────────────────────────────────────────────────────┐\n",
      "-1 0      │                                                                  │\n",
      " 0 145129 │███████████████████████▋                                          │\n",
      " 1 398647 │█████████████████████████████████████████████████████████████████ │\n",
      " 2 277011 │█████████████████████████████████████████████▏                    │\n",
      " 3 13946  │██▎                                                               │\n",
      " 4 0      │                                                                  │\n",
      " 5 0      │                                                                  │\n",
      "          └──────────────────────────────────────────────────────────────────┘\n"
     ]
    }
   ],
   "source": [
    "print(hist2)"
   ]
  },
  {
   "cell_type": "code",
   "execution_count": null,
   "id": "3e22e475-e18e-4acd-b43a-d44a94f71f1f",
   "metadata": {},
   "outputs": [],
   "source": []
  },
  {
   "cell_type": "code",
   "execution_count": 19,
   "id": "bd610816-ef82-497f-aac7-6c08e7bab980",
   "metadata": {},
   "outputs": [],
   "source": [
    "#from plothist import make_hist, plot_hist\n",
    "#import matplotlib.pyplot as plt\n",
    "\n",
    "#name = \"Number of electrons\"\n",
    "\n",
    "#fig, ax = plt.subplots()\n",
    "\n",
    "#h = make_hist(ak.num(el_pt, axis=1))\n",
    "\n",
    "#plot_hist(h, ax=ax)\n",
    "\n",
    "#ax.set_xlabel(name)\n",
    "#ax.set_ylabel(\"Entries\")\n",
    "\n",
    "#fig.savefig(\"Nelec.svg\", bbox_inches=\"tight\")"
   ]
  },
  {
   "cell_type": "code",
   "execution_count": null,
   "id": "a09ac4d3-c674-47ee-90ca-9748ff116f52",
   "metadata": {},
   "outputs": [],
   "source": []
  }
 ],
 "metadata": {
  "kernelspec": {
   "display_name": "Python 3 (ipykernel)",
   "language": "python",
   "name": "python3"
  },
  "language_info": {
   "codemirror_mode": {
    "name": "ipython",
    "version": 3
   },
   "file_extension": ".py",
   "mimetype": "text/x-python",
   "name": "python",
   "nbconvert_exporter": "python",
   "pygments_lexer": "ipython3",
   "version": "3.12.3"
  }
 },
 "nbformat": 4,
 "nbformat_minor": 5
}
