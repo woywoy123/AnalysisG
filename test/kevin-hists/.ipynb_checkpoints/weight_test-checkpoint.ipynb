{
 "cells": [
  {
   "cell_type": "code",
   "execution_count": 1,
   "id": "1f3c1c8d-38af-4574-8a4b-e5a4985cbf63",
   "metadata": {},
   "outputs": [
    {
     "data": {
      "text/html": [
       "<style>.jp-OutputArea-output {display:flex}</style>"
      ],
      "text/plain": [
       "<IPython.core.display.HTML object>"
      ]
     },
     "metadata": {},
     "output_type": "display_data"
    }
   ],
   "source": [
    "# This to allow horizontal scrolling\n",
    "from IPython.display import display, HTML\n",
    "display(HTML(\"<style>.jp-OutputArea-output {display:flex}</style>\"))"
   ]
  },
  {
   "cell_type": "code",
   "execution_count": 2,
   "id": "ee71bedb-7869-4402-9532-f47ad5a23273",
   "metadata": {},
   "outputs": [],
   "source": [
    "%matplotlib inline\n",
    "\n",
    "import os\n",
    "import pandas as pd\n",
    "import matplotlib.pyplot as plt\n",
    "import seaborn as sns\n",
    "import numpy as np\n",
    "import uproot\n",
    "import awkward as ak\n",
    "\n",
    "#sns.set(style=\"darkgrid\")\n",
    "\n",
    "from hepunits.units import nb, pb, invpb, fb, invfb"
   ]
  },
  {
   "cell_type": "code",
   "execution_count": 3,
   "id": "5911a0e1-3143-46f1-a594-e3dbdfcae4fa",
   "metadata": {},
   "outputs": [],
   "source": [
    "pd.set_option('display.width', 1000)\n",
    "pd.set_option('display.max_columns', None)  \n",
    "pd.set_option('display.max_rows', None)\n",
    "pd.set_option('display.expand_frame_repr', True)\n",
    "pd.set_option('max_colwidth', None)"
   ]
  },
  {
   "cell_type": "code",
   "execution_count": 4,
   "id": "6b08aa8a-d402-4909-8fab-5061021dd4ea",
   "metadata": {},
   "outputs": [
    {
     "data": {
      "text/plain": [
       "{'tttt': 'aMcAtNloPythia8EvtGen_A14NNPDF31_SM4topsNLO',\n",
       " 'ttZ-400': 'MadGraphPythia8EvtGen_noallhad_ttH_tttt_m400'}"
      ]
     },
     "execution_count": 4,
     "metadata": {},
     "output_type": "execute_result"
    }
   ],
   "source": [
    "# Map the directory names for the different samples to something simpler to parse\n",
    "samples = { \n",
    "    'tttt' :    'aMcAtNloPythia8EvtGen_A14NNPDF31_SM4topsNLO',\n",
    "    'ttZ-400' : 'MadGraphPythia8EvtGen_noallhad_ttH_tttt_m400'\n",
    "          }\n",
    "samples"
   ]
  },
  {
   "cell_type": "code",
   "execution_count": 5,
   "id": "1207b142-29a0-4803-9ce2-e1f5993432a5",
   "metadata": {},
   "outputs": [
    {
     "data": {
      "text/plain": [
       "{'tttt': 'DAOD_TOPQ1.27733779._000001.root',\n",
       " 'ttZ-400': 'DAOD_TOPQ1.21955708._000011.root'}"
      ]
     },
     "execution_count": 5,
     "metadata": {},
     "output_type": "execute_result"
    }
   ],
   "source": [
    "# Could do something cleverer here, but this is just for a test\n",
    "first_daod = { \n",
    "    'tttt' :    'DAOD_TOPQ1.27733779._000001.root',\n",
    "    'ttZ-400' : 'DAOD_TOPQ1.21955708._000011.root'\n",
    "          }\n",
    "first_daod"
   ]
  },
  {
   "cell_type": "markdown",
   "id": "ec40c845-8020-400f-9764-81fb93fe3cac",
   "metadata": {},
   "source": [
    "Let's look at a DAOD file from the chosen sample"
   ]
  },
  {
   "cell_type": "code",
   "execution_count": 6,
   "id": "9923e26e-1f42-4ff8-86c6-609b3d7485bc",
   "metadata": {},
   "outputs": [],
   "source": [
    "sample = 'ttZ-400'"
   ]
  },
  {
   "cell_type": "code",
   "execution_count": 7,
   "id": "f674123c-10bb-460c-9de0-95bb30d70311",
   "metadata": {},
   "outputs": [],
   "source": [
    "topdirname = \"/import/wu1/tnom6927/sorted_samples/DileptonCollection\"\n",
    "# topdirname = \"/home/kev/Data/atlas/DileptonCollection\"\n",
    "pathname = topdirname+\"/\"+samples[sample]\n",
    "filename = first_daod[sample]"
   ]
  },
  {
   "cell_type": "code",
   "execution_count": 8,
   "id": "19247f19-58f2-485e-a1d1-bc1d2495259b",
   "metadata": {
    "scrolled": true
   },
   "outputs": [],
   "source": [
    "file =  uproot.open(pathname+\"/\"+filename)"
   ]
  },
  {
   "cell_type": "code",
   "execution_count": 9,
   "id": "b03f69b9-7c04-4266-971c-b21473317eba",
   "metadata": {},
   "outputs": [
    {
     "data": {
      "text/plain": [
       "{'dsid': 'int32_t',\n",
       " 'isAFII': 'int32_t',\n",
       " 'generators': 'std::string',\n",
       " 'AMITag': 'std::string',\n",
       " 'totalEventsWeighted': 'float',\n",
       " 'totalEvents': 'uint64_t',\n",
       " 'processedEvents': 'uint64_t',\n",
       " 'processedEventsWeighted': 'float',\n",
       " 'processedEventsWeightedSquared': 'float'}"
      ]
     },
     "execution_count": 9,
     "metadata": {},
     "output_type": "execute_result"
    }
   ],
   "source": [
    "sumweights = file[\"sumWeights\"]\n",
    "sumweights.typenames()"
   ]
  },
  {
   "cell_type": "code",
   "execution_count": 10,
   "id": "3910360d-50fb-4a59-94a2-a27dce6ac594",
   "metadata": {},
   "outputs": [
    {
     "name": "stdout",
     "output_type": "stream",
     "text": [
      "[312440]\n",
      "[1]\n",
      "['MadGraph+Pythia8+EvtGen']\n",
      "['r10201_r10201_r10201_r10201_r10201_r10210_p4031']\n",
      "[0.00745]\n",
      "[10000]\n",
      "[10000]\n",
      "[0.00745]\n",
      "[5.56e-09]\n"
     ]
    }
   ],
   "source": [
    "print(sumweights[\"dsid\"].array())\n",
    "print(sumweights[\"isAFII\"].array())\n",
    "print(sumweights[\"generators\"].array())\n",
    "print(sumweights[\"AMITag\"].array())\n",
    "print(sumweights[\"totalEventsWeighted\"].array())\n",
    "print(sumweights[\"totalEvents\"].array())\n",
    "print(sumweights[\"processedEvents\"].array())\n",
    "print(sumweights[\"processedEventsWeighted\"].array())\n",
    "print(sumweights[\"processedEventsWeightedSquared\"].array())"
   ]
  },
  {
   "cell_type": "code",
   "execution_count": 11,
   "id": "12821d88-96db-408f-ad44-71ff3abee52c",
   "metadata": {},
   "outputs": [
    {
     "data": {
      "text/plain": [
       "0.0074541583"
      ]
     },
     "execution_count": 11,
     "metadata": {},
     "output_type": "execute_result"
    }
   ],
   "source": [
    "sumweights[\"processedEventsWeighted\"].array()[0]"
   ]
  },
  {
   "cell_type": "code",
   "execution_count": 12,
   "id": "910e6761-7484-47bc-b7e3-40f0257ea65e",
   "metadata": {},
   "outputs": [
    {
     "name": "stdout",
     "output_type": "stream",
     "text": [
      "<TTree 'sumWeights' (9 branches) at 0x7fdca50ecc10>\n"
     ]
    }
   ],
   "source": [
    "print(sumweights)"
   ]
  },
  {
   "cell_type": "code",
   "execution_count": 13,
   "id": "11e6336f-56c5-4031-a377-0d8776650763",
   "metadata": {},
   "outputs": [
    {
     "data": {
      "text/plain": [
       "{'weight_mc': 'float',\n",
       " 'weight_pileup': 'float',\n",
       " 'weight_leptonSF': 'float',\n",
       " 'weight_globalLeptonTriggerSF': 'float',\n",
       " 'weight_oldTriggerSF': 'float',\n",
       " 'weight_bTagSF_DL1_77': 'float',\n",
       " 'weight_bTagSF_DL1r_77': 'float',\n",
       " 'weight_bTagSF_DL1_70': 'float',\n",
       " 'weight_bTagSF_DL1r_70': 'float',\n",
       " 'weight_bTagSF_DL1_60': 'float',\n",
       " 'weight_bTagSF_DL1r_60': 'float',\n",
       " 'weight_bTagSF_DL1_85': 'float',\n",
       " 'weight_bTagSF_DL1r_85': 'float',\n",
       " 'weight_jvt': 'float',\n",
       " 'weight_pileup_UP': 'float',\n",
       " 'weight_pileup_DOWN': 'float',\n",
       " 'weight_leptonSF_EL_SF_Trigger_UP': 'float',\n",
       " 'weight_leptonSF_EL_SF_Trigger_DOWN': 'float',\n",
       " 'weight_leptonSF_EL_SF_Reco_UP': 'float',\n",
       " 'weight_leptonSF_EL_SF_Reco_DOWN': 'float',\n",
       " 'weight_leptonSF_EL_SF_ID_UP': 'float',\n",
       " 'weight_leptonSF_EL_SF_ID_DOWN': 'float',\n",
       " 'weight_leptonSF_EL_SF_Isol_UP': 'float',\n",
       " 'weight_leptonSF_EL_SF_Isol_DOWN': 'float',\n",
       " 'weight_leptonSF_MU_SF_Trigger_STAT_UP': 'float',\n",
       " 'weight_leptonSF_MU_SF_Trigger_STAT_DOWN': 'float',\n",
       " 'weight_leptonSF_MU_SF_Trigger_SYST_UP': 'float',\n",
       " 'weight_leptonSF_MU_SF_Trigger_SYST_DOWN': 'float',\n",
       " 'weight_leptonSF_MU_SF_ID_STAT_UP': 'float',\n",
       " 'weight_leptonSF_MU_SF_ID_STAT_DOWN': 'float',\n",
       " 'weight_leptonSF_MU_SF_ID_STAT_LOWPT_UP': 'float',\n",
       " 'weight_leptonSF_MU_SF_ID_STAT_LOWPT_DOWN': 'float',\n",
       " 'weight_leptonSF_MU_SF_ID_SYST_LOWPT_UP': 'float',\n",
       " 'weight_leptonSF_MU_SF_ID_SYST_LOWPT_DOWN': 'float',\n",
       " 'weight_leptonSF_MU_SF_ID_SYST_UP': 'float',\n",
       " 'weight_leptonSF_MU_SF_ID_SYST_DOWN': 'float',\n",
       " 'weight_leptonSF_MU_SF_Isol_STAT_UP': 'float',\n",
       " 'weight_leptonSF_MU_SF_Isol_STAT_DOWN': 'float',\n",
       " 'weight_leptonSF_MU_SF_Isol_SYST_UP': 'float',\n",
       " 'weight_leptonSF_MU_SF_Isol_SYST_DOWN': 'float',\n",
       " 'weight_leptonSF_MU_SF_TTVA_STAT_UP': 'float',\n",
       " 'weight_leptonSF_MU_SF_TTVA_STAT_DOWN': 'float',\n",
       " 'weight_leptonSF_MU_SF_TTVA_SYST_UP': 'float',\n",
       " 'weight_leptonSF_MU_SF_TTVA_SYST_DOWN': 'float',\n",
       " 'weight_globalLeptonTriggerSF_EL_Trigger_UP': 'float',\n",
       " 'weight_globalLeptonTriggerSF_EL_Trigger_DOWN': 'float',\n",
       " 'weight_globalLeptonTriggerSF_MU_Trigger_STAT_UP': 'float',\n",
       " 'weight_globalLeptonTriggerSF_MU_Trigger_STAT_DOWN': 'float',\n",
       " 'weight_globalLeptonTriggerSF_MU_Trigger_SYST_UP': 'float',\n",
       " 'weight_globalLeptonTriggerSF_MU_Trigger_SYST_DOWN': 'float',\n",
       " 'weight_oldTriggerSF_EL_Trigger_UP': 'float',\n",
       " 'weight_oldTriggerSF_EL_Trigger_DOWN': 'float',\n",
       " 'weight_oldTriggerSF_MU_Trigger_STAT_UP': 'float',\n",
       " 'weight_oldTriggerSF_MU_Trigger_STAT_DOWN': 'float',\n",
       " 'weight_oldTriggerSF_MU_Trigger_SYST_UP': 'float',\n",
       " 'weight_oldTriggerSF_MU_Trigger_SYST_DOWN': 'float',\n",
       " 'weight_indiv_SF_EL_Reco': 'float',\n",
       " 'weight_indiv_SF_EL_Reco_UP': 'float',\n",
       " 'weight_indiv_SF_EL_Reco_DOWN': 'float',\n",
       " 'weight_indiv_SF_EL_ID': 'float',\n",
       " 'weight_indiv_SF_EL_ID_UP': 'float',\n",
       " 'weight_indiv_SF_EL_ID_DOWN': 'float',\n",
       " 'weight_indiv_SF_EL_Isol': 'float',\n",
       " 'weight_indiv_SF_EL_Isol_UP': 'float',\n",
       " 'weight_indiv_SF_EL_Isol_DOWN': 'float',\n",
       " 'weight_indiv_SF_EL_ChargeID': 'float',\n",
       " 'weight_indiv_SF_EL_ChargeID_UP': 'float',\n",
       " 'weight_indiv_SF_EL_ChargeID_DOWN': 'float',\n",
       " 'weight_indiv_SF_EL_ChargeMisID': 'float',\n",
       " 'weight_indiv_SF_EL_ChargeMisID_STAT_UP': 'float',\n",
       " 'weight_indiv_SF_EL_ChargeMisID_STAT_DOWN': 'float',\n",
       " 'weight_indiv_SF_EL_ChargeMisID_SYST_UP': 'float',\n",
       " 'weight_indiv_SF_EL_ChargeMisID_SYST_DOWN': 'float',\n",
       " 'weight_indiv_SF_MU_ID': 'float',\n",
       " 'weight_indiv_SF_MU_ID_STAT_UP': 'float',\n",
       " 'weight_indiv_SF_MU_ID_STAT_DOWN': 'float',\n",
       " 'weight_indiv_SF_MU_ID_SYST_UP': 'float',\n",
       " 'weight_indiv_SF_MU_ID_SYST_DOWN': 'float',\n",
       " 'weight_indiv_SF_MU_ID_STAT_LOWPT_UP': 'float',\n",
       " 'weight_indiv_SF_MU_ID_STAT_LOWPT_DOWN': 'float',\n",
       " 'weight_indiv_SF_MU_ID_SYST_LOWPT_UP': 'float',\n",
       " 'weight_indiv_SF_MU_ID_SYST_LOWPT_DOWN': 'float',\n",
       " 'weight_indiv_SF_MU_Isol': 'float',\n",
       " 'weight_indiv_SF_MU_Isol_STAT_UP': 'float',\n",
       " 'weight_indiv_SF_MU_Isol_STAT_DOWN': 'float',\n",
       " 'weight_indiv_SF_MU_Isol_SYST_UP': 'float',\n",
       " 'weight_indiv_SF_MU_Isol_SYST_DOWN': 'float',\n",
       " 'weight_indiv_SF_MU_TTVA': 'float',\n",
       " 'weight_indiv_SF_MU_TTVA_STAT_UP': 'float',\n",
       " 'weight_indiv_SF_MU_TTVA_STAT_DOWN': 'float',\n",
       " 'weight_indiv_SF_MU_TTVA_SYST_UP': 'float',\n",
       " 'weight_indiv_SF_MU_TTVA_SYST_DOWN': 'float',\n",
       " 'weight_jvt_UP': 'float',\n",
       " 'weight_jvt_DOWN': 'float',\n",
       " 'weight_bTagSF_DL1_77_eigenvars_B_up': 'std::vector<float>',\n",
       " 'weight_bTagSF_DL1_77_eigenvars_C_up': 'std::vector<float>',\n",
       " 'weight_bTagSF_DL1_77_eigenvars_Light_up': 'std::vector<float>',\n",
       " 'weight_bTagSF_DL1_77_eigenvars_B_down': 'std::vector<float>',\n",
       " 'weight_bTagSF_DL1_77_eigenvars_C_down': 'std::vector<float>',\n",
       " 'weight_bTagSF_DL1_77_eigenvars_Light_down': 'std::vector<float>',\n",
       " 'weight_bTagSF_DL1_77_extrapolation_up': 'float',\n",
       " 'weight_bTagSF_DL1_77_extrapolation_down': 'float',\n",
       " 'weight_bTagSF_DL1_77_extrapolation_from_charm_up': 'float',\n",
       " 'weight_bTagSF_DL1_77_extrapolation_from_charm_down': 'float',\n",
       " 'weight_bTagSF_DL1r_77_eigenvars_B_up': 'std::vector<float>',\n",
       " 'weight_bTagSF_DL1r_77_eigenvars_C_up': 'std::vector<float>',\n",
       " 'weight_bTagSF_DL1r_77_eigenvars_Light_up': 'std::vector<float>',\n",
       " 'weight_bTagSF_DL1r_77_eigenvars_B_down': 'std::vector<float>',\n",
       " 'weight_bTagSF_DL1r_77_eigenvars_C_down': 'std::vector<float>',\n",
       " 'weight_bTagSF_DL1r_77_eigenvars_Light_down': 'std::vector<float>',\n",
       " 'weight_bTagSF_DL1r_77_extrapolation_up': 'float',\n",
       " 'weight_bTagSF_DL1r_77_extrapolation_down': 'float',\n",
       " 'weight_bTagSF_DL1r_77_extrapolation_from_charm_up': 'float',\n",
       " 'weight_bTagSF_DL1r_77_extrapolation_from_charm_down': 'float',\n",
       " 'weight_bTagSF_DL1_70_eigenvars_B_up': 'std::vector<float>',\n",
       " 'weight_bTagSF_DL1_70_eigenvars_C_up': 'std::vector<float>',\n",
       " 'weight_bTagSF_DL1_70_eigenvars_Light_up': 'std::vector<float>',\n",
       " 'weight_bTagSF_DL1_70_eigenvars_B_down': 'std::vector<float>',\n",
       " 'weight_bTagSF_DL1_70_eigenvars_C_down': 'std::vector<float>',\n",
       " 'weight_bTagSF_DL1_70_eigenvars_Light_down': 'std::vector<float>',\n",
       " 'weight_bTagSF_DL1_70_extrapolation_up': 'float',\n",
       " 'weight_bTagSF_DL1_70_extrapolation_down': 'float',\n",
       " 'weight_bTagSF_DL1_70_extrapolation_from_charm_up': 'float',\n",
       " 'weight_bTagSF_DL1_70_extrapolation_from_charm_down': 'float',\n",
       " 'weight_bTagSF_DL1r_70_eigenvars_B_up': 'std::vector<float>',\n",
       " 'weight_bTagSF_DL1r_70_eigenvars_C_up': 'std::vector<float>',\n",
       " 'weight_bTagSF_DL1r_70_eigenvars_Light_up': 'std::vector<float>',\n",
       " 'weight_bTagSF_DL1r_70_eigenvars_B_down': 'std::vector<float>',\n",
       " 'weight_bTagSF_DL1r_70_eigenvars_C_down': 'std::vector<float>',\n",
       " 'weight_bTagSF_DL1r_70_eigenvars_Light_down': 'std::vector<float>',\n",
       " 'weight_bTagSF_DL1r_70_extrapolation_up': 'float',\n",
       " 'weight_bTagSF_DL1r_70_extrapolation_down': 'float',\n",
       " 'weight_bTagSF_DL1r_70_extrapolation_from_charm_up': 'float',\n",
       " 'weight_bTagSF_DL1r_70_extrapolation_from_charm_down': 'float',\n",
       " 'weight_bTagSF_DL1_60_eigenvars_B_up': 'std::vector<float>',\n",
       " 'weight_bTagSF_DL1_60_eigenvars_C_up': 'std::vector<float>',\n",
       " 'weight_bTagSF_DL1_60_eigenvars_Light_up': 'std::vector<float>',\n",
       " 'weight_bTagSF_DL1_60_eigenvars_B_down': 'std::vector<float>',\n",
       " 'weight_bTagSF_DL1_60_eigenvars_C_down': 'std::vector<float>',\n",
       " 'weight_bTagSF_DL1_60_eigenvars_Light_down': 'std::vector<float>',\n",
       " 'weight_bTagSF_DL1_60_extrapolation_up': 'float',\n",
       " 'weight_bTagSF_DL1_60_extrapolation_down': 'float',\n",
       " 'weight_bTagSF_DL1_60_extrapolation_from_charm_up': 'float',\n",
       " 'weight_bTagSF_DL1_60_extrapolation_from_charm_down': 'float',\n",
       " 'weight_bTagSF_DL1r_60_eigenvars_B_up': 'std::vector<float>',\n",
       " 'weight_bTagSF_DL1r_60_eigenvars_C_up': 'std::vector<float>',\n",
       " 'weight_bTagSF_DL1r_60_eigenvars_Light_up': 'std::vector<float>',\n",
       " 'weight_bTagSF_DL1r_60_eigenvars_B_down': 'std::vector<float>',\n",
       " 'weight_bTagSF_DL1r_60_eigenvars_C_down': 'std::vector<float>',\n",
       " 'weight_bTagSF_DL1r_60_eigenvars_Light_down': 'std::vector<float>',\n",
       " 'weight_bTagSF_DL1r_60_extrapolation_up': 'float',\n",
       " 'weight_bTagSF_DL1r_60_extrapolation_down': 'float',\n",
       " 'weight_bTagSF_DL1r_60_extrapolation_from_charm_up': 'float',\n",
       " 'weight_bTagSF_DL1r_60_extrapolation_from_charm_down': 'float',\n",
       " 'weight_bTagSF_DL1_85_eigenvars_B_up': 'std::vector<float>',\n",
       " 'weight_bTagSF_DL1_85_eigenvars_C_up': 'std::vector<float>',\n",
       " 'weight_bTagSF_DL1_85_eigenvars_Light_up': 'std::vector<float>',\n",
       " 'weight_bTagSF_DL1_85_eigenvars_B_down': 'std::vector<float>',\n",
       " 'weight_bTagSF_DL1_85_eigenvars_C_down': 'std::vector<float>',\n",
       " 'weight_bTagSF_DL1_85_eigenvars_Light_down': 'std::vector<float>',\n",
       " 'weight_bTagSF_DL1_85_extrapolation_up': 'float',\n",
       " 'weight_bTagSF_DL1_85_extrapolation_down': 'float',\n",
       " 'weight_bTagSF_DL1_85_extrapolation_from_charm_up': 'float',\n",
       " 'weight_bTagSF_DL1_85_extrapolation_from_charm_down': 'float',\n",
       " 'weight_bTagSF_DL1r_85_eigenvars_B_up': 'std::vector<float>',\n",
       " 'weight_bTagSF_DL1r_85_eigenvars_C_up': 'std::vector<float>',\n",
       " 'weight_bTagSF_DL1r_85_eigenvars_Light_up': 'std::vector<float>',\n",
       " 'weight_bTagSF_DL1r_85_eigenvars_B_down': 'std::vector<float>',\n",
       " 'weight_bTagSF_DL1r_85_eigenvars_C_down': 'std::vector<float>',\n",
       " 'weight_bTagSF_DL1r_85_eigenvars_Light_down': 'std::vector<float>',\n",
       " 'weight_bTagSF_DL1r_85_extrapolation_up': 'float',\n",
       " 'weight_bTagSF_DL1r_85_extrapolation_down': 'float',\n",
       " 'weight_bTagSF_DL1r_85_extrapolation_from_charm_up': 'float',\n",
       " 'weight_bTagSF_DL1r_85_extrapolation_from_charm_down': 'float',\n",
       " 'eventNumber': 'uint64_t',\n",
       " 'runNumber': 'uint32_t',\n",
       " 'randomRunNumber': 'uint32_t',\n",
       " 'mcChannelNumber': 'uint32_t',\n",
       " 'mu': 'float',\n",
       " 'mu_actual': 'float',\n",
       " 'backgroundFlags': 'uint32_t',\n",
       " 'hasBadMuon': 'uint32_t',\n",
       " 'el_pt': 'std::vector<float>',\n",
       " 'el_eta': 'std::vector<float>',\n",
       " 'el_cl_eta': 'std::vector<float>',\n",
       " 'el_phi': 'std::vector<float>',\n",
       " 'el_e': 'std::vector<float>',\n",
       " 'el_charge': 'std::vector<float>',\n",
       " 'el_topoetcone20': 'std::vector<float>',\n",
       " 'el_ptvarcone20': 'std::vector<float>',\n",
       " 'el_CF': 'std::vector<int8_t>',\n",
       " 'el_d0sig': 'std::vector<float>',\n",
       " 'el_delta_z0_sintheta': 'std::vector<float>',\n",
       " 'el_true_type': 'std::vector<int32_t>',\n",
       " 'el_true_origin': 'std::vector<int32_t>',\n",
       " 'el_true_firstEgMotherTruthType': 'std::vector<int32_t>',\n",
       " 'el_true_firstEgMotherTruthOrigin': 'std::vector<int32_t>',\n",
       " 'el_true_firstEgMotherPdgId': 'std::vector<int32_t>',\n",
       " 'el_true_IFFclass': 'std::vector<int32_t>',\n",
       " 'el_true_isPrompt': 'std::vector<int8_t>',\n",
       " 'el_true_isChargeFl': 'std::vector<int8_t>',\n",
       " 'mu_pt': 'std::vector<float>',\n",
       " 'mu_eta': 'std::vector<float>',\n",
       " 'mu_phi': 'std::vector<float>',\n",
       " 'mu_e': 'std::vector<float>',\n",
       " 'mu_charge': 'std::vector<float>',\n",
       " 'mu_topoetcone20': 'std::vector<float>',\n",
       " 'mu_ptvarcone30': 'std::vector<float>',\n",
       " 'mu_d0sig': 'std::vector<float>',\n",
       " 'mu_delta_z0_sintheta': 'std::vector<float>',\n",
       " 'mu_true_type': 'std::vector<int32_t>',\n",
       " 'mu_true_origin': 'std::vector<int32_t>',\n",
       " 'mu_true_IFFclass': 'std::vector<int32_t>',\n",
       " 'mu_true_isPrompt': 'std::vector<int8_t>',\n",
       " 'jet_pt': 'std::vector<float>',\n",
       " 'jet_eta': 'std::vector<float>',\n",
       " 'jet_phi': 'std::vector<float>',\n",
       " 'jet_e': 'std::vector<float>',\n",
       " 'jet_jvt': 'std::vector<float>',\n",
       " 'jet_truthflav': 'std::vector<int32_t>',\n",
       " 'jet_truthPartonLabel': 'std::vector<int32_t>',\n",
       " 'jet_isTrueHS': 'std::vector<int8_t>',\n",
       " 'jet_truthflavExtended': 'std::vector<int32_t>',\n",
       " 'jet_isbtagged_DL1_77': 'std::vector<int8_t>',\n",
       " 'jet_isbtagged_DL1r_77': 'std::vector<int8_t>',\n",
       " 'jet_isbtagged_DL1_70': 'std::vector<int8_t>',\n",
       " 'jet_isbtagged_DL1r_70': 'std::vector<int8_t>',\n",
       " 'jet_isbtagged_DL1_60': 'std::vector<int8_t>',\n",
       " 'jet_isbtagged_DL1r_60': 'std::vector<int8_t>',\n",
       " 'jet_isbtagged_DL1_85': 'std::vector<int8_t>',\n",
       " 'jet_isbtagged_DL1r_85': 'std::vector<int8_t>',\n",
       " 'jet_DL1': 'std::vector<float>',\n",
       " 'jet_DL1_pb': 'std::vector<float>',\n",
       " 'jet_DL1_pc': 'std::vector<float>',\n",
       " 'jet_DL1_pu': 'std::vector<float>',\n",
       " 'jet_DL1r': 'std::vector<float>',\n",
       " 'jet_DL1r_pb': 'std::vector<float>',\n",
       " 'jet_DL1r_pc': 'std::vector<float>',\n",
       " 'jet_DL1r_pu': 'std::vector<float>',\n",
       " 'rcjet_pt': 'std::vector<float>',\n",
       " 'rcjet_eta': 'std::vector<float>',\n",
       " 'rcjet_phi': 'std::vector<float>',\n",
       " 'rcjet_e': 'std::vector<float>',\n",
       " 'rcjet_d12': 'std::vector<float>',\n",
       " 'rcjet_d23': 'std::vector<float>',\n",
       " 'rcjetsub_pt': 'std::vector<std::vector<float>>',\n",
       " 'rcjetsub_eta': 'std::vector<std::vector<float>>',\n",
       " 'rcjetsub_phi': 'std::vector<std::vector<float>>',\n",
       " 'rcjetsub_e': 'std::vector<std::vector<float>>',\n",
       " 'met_met': 'float',\n",
       " 'met_phi': 'float',\n",
       " 'ee_DL1r': 'int32_t',\n",
       " 'emu_DL1r': 'int32_t',\n",
       " 'mumu_DL1r': 'int32_t',\n",
       " 'eee_DL1r': 'int32_t',\n",
       " 'eemu_DL1r': 'int32_t',\n",
       " 'emumu_DL1r': 'int32_t',\n",
       " 'mumumu_DL1r': 'int32_t',\n",
       " 'HLT_mu26_ivarmedium': 'int8_t',\n",
       " 'HLT_mu50': 'int8_t',\n",
       " 'HLT_e60_lhmedium_nod0': 'int8_t',\n",
       " 'HLT_e140_lhloose_nod0': 'int8_t',\n",
       " 'HLT_e26_lhtight_nod0_ivarloose': 'int8_t',\n",
       " 'el_trigMatch_HLT_e60_lhmedium_nod0': 'std::vector<int8_t>',\n",
       " 'el_trigMatch_HLT_e140_lhloose_nod0': 'std::vector<int8_t>',\n",
       " 'el_trigMatch_HLT_e26_lhtight_nod0_ivarloose': 'std::vector<int8_t>',\n",
       " 'mu_trigMatch_HLT_mu50': 'std::vector<int8_t>',\n",
       " 'mu_trigMatch_HLT_mu26_ivarmedium': 'std::vector<int8_t>',\n",
       " 'truthjets_index': 'std::vector<int32_t>',\n",
       " 'truthjets_pt': 'std::vector<float>',\n",
       " 'truthjets_eta': 'std::vector<float>',\n",
       " 'truthjets_phi': 'std::vector<float>',\n",
       " 'truthjets_e': 'std::vector<float>',\n",
       " 'truthjets_btagged': 'std::vector<int32_t>',\n",
       " 'truthjets_topquarkcount': 'std::vector<int32_t>',\n",
       " 'truthjets_wbosoncount': 'std::vector<int32_t>',\n",
       " 'truthjets_TopIndex': 'std::vector<std::vector<int32_t>>',\n",
       " 'jet_index': 'std::vector<int32_t>',\n",
       " 'jet_TopIndex': 'std::vector<std::vector<int32_t>>',\n",
       " 'top_index': 'std::vector<int32_t>',\n",
       " 'top_pt': 'std::vector<float>',\n",
       " 'top_e': 'std::vector<float>',\n",
       " 'top_eta': 'std::vector<float>',\n",
       " 'top_phi': 'std::vector<float>',\n",
       " 'top_charge': 'std::vector<float>',\n",
       " 'top_pdgid': 'std::vector<int32_t>',\n",
       " 'top_FromRes': 'std::vector<int32_t>',\n",
       " 'top_status': 'std::vector<int32_t>',\n",
       " 'children_index': 'std::vector<std::vector<int32_t>>',\n",
       " 'children_pt': 'std::vector<std::vector<float>>',\n",
       " 'children_e': 'std::vector<std::vector<float>>',\n",
       " 'children_eta': 'std::vector<std::vector<float>>',\n",
       " 'children_phi': 'std::vector<std::vector<float>>',\n",
       " 'children_charge': 'std::vector<std::vector<float>>',\n",
       " 'children_pdgid': 'std::vector<std::vector<int32_t>>',\n",
       " 'children_TopIndex': 'std::vector<std::vector<int32_t>>',\n",
       " 'TJparton_index': 'std::vector<int32_t>',\n",
       " 'TJparton_TruthJetIndex': 'std::vector<int32_t>',\n",
       " 'TJparton_ChildIndex': 'std::vector<std::vector<int32_t>>',\n",
       " 'TJparton_pt': 'std::vector<float>',\n",
       " 'TJparton_eta': 'std::vector<float>',\n",
       " 'TJparton_phi': 'std::vector<float>',\n",
       " 'TJparton_e': 'std::vector<float>',\n",
       " 'TJparton_charge': 'std::vector<float>',\n",
       " 'TJparton_pdgid': 'std::vector<float>',\n",
       " 'Jparton_index': 'std::vector<int32_t>',\n",
       " 'Jparton_JetIndex': 'std::vector<int32_t>',\n",
       " 'Jparton_ChildIndex': 'std::vector<std::vector<int32_t>>',\n",
       " 'Jparton_pt': 'std::vector<float>',\n",
       " 'Jparton_eta': 'std::vector<float>',\n",
       " 'Jparton_phi': 'std::vector<float>',\n",
       " 'Jparton_e': 'std::vector<float>',\n",
       " 'Jparton_charge': 'std::vector<float>',\n",
       " 'Jparton_pdgid': 'std::vector<float>'}"
      ]
     },
     "execution_count": 13,
     "metadata": {},
     "output_type": "execute_result"
    }
   ],
   "source": [
    "nominal  = file[\"nominal\"]\n",
    "nominal.typenames()"
   ]
  },
  {
   "cell_type": "code",
   "execution_count": 14,
   "id": "bd107f14-d09f-4216-85d9-a25685a63a90",
   "metadata": {},
   "outputs": [
    {
     "name": "stdout",
     "output_type": "stream",
     "text": [
      "[7.45e-07, 7.45e-07, 7.45e-07, 7.45e-07, ..., 7.46e-07, 7.46e-07, 7.46e-07]\n"
     ]
    }
   ],
   "source": [
    "weight_mc = nominal[\"weight_mc\"].array()\n",
    "print(weight_mc)"
   ]
  },
  {
   "cell_type": "code",
   "execution_count": 15,
   "id": "876ce594-d0f5-48c1-8b1d-91610b59583f",
   "metadata": {},
   "outputs": [
    {
     "name": "stdout",
     "output_type": "stream",
     "text": [
      "815\n"
     ]
    }
   ],
   "source": [
    "met_met = nominal[\"met_met\"].array()\n",
    "print(len(met_met))"
   ]
  },
  {
   "cell_type": "code",
   "execution_count": 16,
   "id": "f51016da-6a29-4e12-892c-3e715afc891b",
   "metadata": {},
   "outputs": [],
   "source": [
    "import boost_histogram as bh\n",
    "import matplotlib.pyplot as plt\n",
    "\n",
    "import mplhep as hep\n",
    "#plt.style.use(hep.style.ATLAS)"
   ]
  },
  {
   "cell_type": "code",
   "execution_count": 17,
   "id": "8761bcbb-f1b3-405d-b159-d275b63db60c",
   "metadata": {},
   "outputs": [],
   "source": [
    "hist1 = bh.Histogram(bh.axis.Regular(25, 0.0, 500000.), metadata=\"Missing ET\")\n",
    "hist2 = bh.Histogram(bh.axis.Regular(25, 0.0, 500000.), metadata=\"Missing ET weighted\")"
   ]
  },
  {
   "cell_type": "code",
   "execution_count": 18,
   "id": "7a85eee1-1caf-42ff-bbb8-672b1da8e2f4",
   "metadata": {},
   "outputs": [
    {
     "data": {
      "text/plain": [
       "Histogram(Regular(25, 0, 500000), storage=Double()) # Sum: 813.0 (815.0 with flow)"
      ]
     },
     "execution_count": 18,
     "metadata": {},
     "output_type": "execute_result"
    }
   ],
   "source": [
    "hist1.fill(met_met)"
   ]
  },
  {
   "cell_type": "code",
   "execution_count": 19,
   "id": "7272a77a-bbef-454d-8d00-e6e9b1eb643f",
   "metadata": {},
   "outputs": [
    {
     "data": {
      "text/plain": [
       "Histogram(Regular(25, 0, 500000), storage=Double()) # Sum: 0.0006060208910412257 (0.0006075117227055671 with flow)"
      ]
     },
     "execution_count": 19,
     "metadata": {},
     "output_type": "execute_result"
    }
   ],
   "source": [
    "hist2.fill(met_met, weight=weight_mc)"
   ]
  },
  {
   "cell_type": "code",
   "execution_count": 20,
   "id": "90ea6351-fd87-4444-b864-564f4bfef7c8",
   "metadata": {},
   "outputs": [
    {
     "data": {
      "text/plain": [
       "[StairsArtists(stairs=<matplotlib.patches.StepPatch object at 0x7fdca4a4b290>, errorbar=<ErrorbarContainer object of 3 artists>, legend_artist=<ErrorbarContainer object of 3 artists>)]"
      ]
     },
     "execution_count": 20,
     "metadata": {},
     "output_type": "execute_result"
    },
    {
     "data": {
      "image/png": "[encoded data removed]",
      "text/plain": [
       "<Figure size 640x480 with 1 Axes>"
      ]
     },
     "metadata": {},
     "output_type": "display_data"
    }
   ],
   "source": [
    "hep.histplot(hist1)"
   ]
  },
  {
   "cell_type": "code",
   "execution_count": 21,
   "id": "95d9dd7c-d52d-43f6-be71-9fc677ce7295",
   "metadata": {},
   "outputs": [
    {
     "data": {
      "text/plain": [
       "[StairsArtists(stairs=<matplotlib.patches.StepPatch object at 0x7fdca4370a90>, errorbar=None, legend_artist=None)]"
      ]
     },
     "execution_count": 21,
     "metadata": {},
     "output_type": "execute_result"
    },
    {
     "data": {
      "image/png": "[encoded data removed]",
      "text/plain": [
       "<Figure size 640x480 with 1 Axes>"
      ]
     },
     "metadata": {},
     "output_type": "display_data"
    }
   ],
   "source": [
    "hep.histplot(hist2)"
   ]
  },
  {
   "cell_type": "code",
   "execution_count": 22,
   "id": "b580044e-9720-4c67-ae7d-701a561877f7",
   "metadata": {},
   "outputs": [
    {
     "name": "stdout",
     "output_type": "stream",
     "text": [
      "                       ┌─────────────────────────────────────────────────────┐\n",
      "[   -inf,       0) 0   │                                                     │\n",
      "[      0,   2e+04) 36  │████████████████▉                                    │\n",
      "[  2e+04,   4e+04) 63  │█████████████████████████████▌                       │\n",
      "[  4e+04,   6e+04) 92  │███████████████████████████████████████████▏         │\n",
      "[  6e+04,   8e+04) 111 │████████████████████████████████████████████████████ │\n",
      "[  8e+04,   1e+05) 108 │██████████████████████████████████████████████████▋  │\n",
      "[  1e+05, 1.2e+05) 93  │███████████████████████████████████████████▋         │\n",
      "[1.2e+05, 1.4e+05) 83  │██████████████████████████████████████▉              │\n",
      "[1.4e+05, 1.6e+05) 63  │█████████████████████████████▌                       │\n",
      "[1.6e+05, 1.8e+05) 43  │████████████████████▏                                │\n",
      "[1.8e+05,   2e+05) 27  │████████████▋                                        │\n",
      "[  2e+05, 2.2e+05) 23  │██████████▊                                          │\n",
      "[2.2e+05, 2.4e+05) 14  │██████▌                                              │\n",
      "[2.4e+05, 2.6e+05) 15  │███████                                              │\n",
      "[2.6e+05, 2.8e+05) 14  │██████▌                                              │\n",
      "[2.8e+05,   3e+05) 3   │█▍                                                   │\n",
      "[  3e+05, 3.2e+05) 9   │████▎                                                │\n",
      "[3.2e+05, 3.4e+05) 5   │██▍                                                  │\n",
      "[3.4e+05, 3.6e+05) 0   │                                                     │\n",
      "[3.6e+05, 3.8e+05) 3   │█▍                                                   │\n",
      "[3.8e+05,   4e+05) 4   │█▉                                                   │\n",
      "[  4e+05, 4.2e+05) 2   │▉                                                    │\n",
      "[4.2e+05, 4.4e+05) 0   │                                                     │\n",
      "[4.4e+05, 4.6e+05) 0   │                                                     │\n",
      "[4.6e+05, 4.8e+05) 1   │▌                                                    │\n",
      "[4.8e+05,   5e+05) 1   │▌                                                    │\n",
      "[  5e+05,     inf) 2   │▉                                                    │\n",
      "                       └─────────────────────────────────────────────────────┘\n"
     ]
    }
   ],
   "source": [
    "print(hist1)"
   ]
  },
  {
   "cell_type": "code",
   "execution_count": 23,
   "id": "93e5012b-1689-4b4c-b866-35a8ef44174f",
   "metadata": {},
   "outputs": [
    {
     "name": "stdout",
     "output_type": "stream",
     "text": [
      "                             ┌───────────────────────────────────────────────┐\n",
      "[   -inf,       0) 0         │                                               │\n",
      "[      0,   2e+04) 2.683e-05 │██████████████▉                                │\n",
      "[  2e+04,   4e+04) 4.696e-05 │██████████████████████████▏                    │\n",
      "[  4e+04,   6e+04) 6.858e-05 │██████████████████████████████████████▏        │\n",
      "[  6e+04,   8e+04) 8.274e-05 │██████████████████████████████████████████████ │\n",
      "[  8e+04,   1e+05) 8.05e-05  │████████████████████████████████████████████▊  │\n",
      "[  1e+05, 1.2e+05) 6.933e-05 │██████████████████████████████████████▌        │\n",
      "[1.2e+05, 1.4e+05) 6.187e-05 │██████████████████████████████████▍            │\n",
      "[1.4e+05, 1.6e+05) 4.696e-05 │██████████████████████████▏                    │\n",
      "[1.6e+05, 1.8e+05) 3.206e-05 │█████████████████▉                             │\n",
      "[1.8e+05,   2e+05) 2.012e-05 │███████████▏                                   │\n",
      "[  2e+05, 2.2e+05) 1.714e-05 │█████████▌                                     │\n",
      "[2.2e+05, 2.4e+05) 1.044e-05 │█████▊                                         │\n",
      "[2.4e+05, 2.6e+05) 1.118e-05 │██████▎                                        │\n",
      "[2.6e+05, 2.8e+05) 1.044e-05 │█████▊                                         │\n",
      "[2.8e+05,   3e+05) 2.235e-06 │█▎                                             │\n",
      "[  3e+05, 3.2e+05) 6.708e-06 │███▊                                           │\n",
      "[3.2e+05, 3.4e+05) 3.726e-06 │██▏                                            │\n",
      "[3.4e+05, 3.6e+05) 0         │                                               │\n",
      "[3.6e+05, 3.8e+05) 2.236e-06 │█▎                                             │\n",
      "[3.8e+05,   4e+05) 2.981e-06 │█▋                                             │\n",
      "[  4e+05, 4.2e+05) 1.491e-06 │▉                                              │\n",
      "[4.2e+05, 4.4e+05) 0         │                                               │\n",
      "[4.4e+05, 4.6e+05) 0         │                                               │\n",
      "[4.6e+05, 4.8e+05) 7.457e-07 │▍                                              │\n",
      "[4.8e+05,   5e+05) 7.457e-07 │▍                                              │\n",
      "[  5e+05,     inf) 1.491e-06 │▉                                              │\n",
      "                             └───────────────────────────────────────────────┘\n"
     ]
    }
   ],
   "source": [
    "print(hist2)"
   ]
  },
  {
   "cell_type": "code",
   "execution_count": 24,
   "id": "f1ef9520-2d2e-41bf-87be-a47546ad92c8",
   "metadata": {},
   "outputs": [
    {
     "data": {
      "text/plain": [
       "[StairsArtists(stairs=<matplotlib.patches.StepPatch object at 0x7fdca4a3a690>, errorbar=None, legend_artist=None)]"
      ]
     },
     "execution_count": 24,
     "metadata": {},
     "output_type": "execute_result"
    },
    {
     "data": {
      "image/png": "[encoded data removed]",
      "text/plain": [
       "<Figure size 640x480 with 1 Axes>"
      ]
     },
     "metadata": {},
     "output_type": "display_data"
    }
   ],
   "source": [
    "hep.histplot(hist1, density=True)\n",
    "hep.histplot(hist2, density=True)"
   ]
  },
  {
   "cell_type": "markdown",
   "id": "a8c8b4a3-9708-4b36-a58c-2220e2b5ad8e",
   "metadata": {},
   "source": [
    "Now that we've looked at one DAOD file in detail, loop over all of them in this sample"
   ]
  },
  {
   "cell_type": "code",
   "execution_count": 25,
   "id": "a09ac4d3-c674-47ee-90ca-9748ff116f52",
   "metadata": {},
   "outputs": [],
   "source": [
    "filelist = os.listdir(pathname)"
   ]
  },
  {
   "cell_type": "code",
   "execution_count": 26,
   "id": "b873890d-f662-4175-b411-5118f12db546",
   "metadata": {},
   "outputs": [],
   "source": [
    "# We want an array for the sum of weights for every subsample in every DAOD file in the directory. \n",
    "# One might think that there would be one sum of weights per file, however we have to allow for the \n",
    "# possibility that several smaller samples could have been concatenated into a single DAOD file. \n",
    "# This doesn't seem to be the case for these samples that we are dealing with.\n",
    "# We also need an array for the sum of weights squared. This will be needed if we want to calculate\n",
    "# the uncertainty on the total number of events.\n",
    "#\n",
    "# We also need an array for the individual MC weights for each event, which will be used when we \n",
    "# fill our histograms. And we need the values of the chosen variable for each event also.\n",
    "# In this example we are using MET for the variable of interest.\n",
    "\n",
    "tot_sow_arr = []\n",
    "tot_sowsq_arr = []\n",
    "weight_mc_arr = []\n",
    "met_arr = []\n",
    "\n",
    "for file in filelist:\n",
    "    \n",
    "    f = uproot.open(pathname+\"/\"+file)\n",
    "    \n",
    "    sowfile = f[\"sumWeights\"]\n",
    "    tot_sow_arr.append(sowfile[\"processedEventsWeighted\"].array())\n",
    "    tot_sowsq_arr.append(sowfile[\"processedEventsWeightedSquared\"].array())\n",
    "\n",
    "    nom = f[\"nominal\"]\n",
    "    weight_mc_arr.append(nom[\"weight_mc\"].array())\n",
    "    met_arr.append(nom[\"met_met\"].array())"
   ]
  },
  {
   "cell_type": "code",
   "execution_count": 27,
   "id": "da489b74-acf6-43d9-aafd-3af25cc705e5",
   "metadata": {},
   "outputs": [
    {
     "data": {
      "text/html": [
       "<pre>[[0.00745],\n",
       " [0.00746],\n",
       " [0.00744],\n",
       " [0.00745],\n",
       " [0.00744],\n",
       " [0.00744],\n",
       " [0.00744],\n",
       " [0.00745],\n",
       " [0.00745],\n",
       " [0.0149],\n",
       " ...,\n",
       " [0.00744],\n",
       " [0.00744],\n",
       " [0.00745],\n",
       " [0.00745],\n",
       " [0.00745],\n",
       " [0.00745],\n",
       " [0.00744],\n",
       " [0.00745],\n",
       " [0.00744]]\n",
       "------------------------\n",
       "type: 27 * var * float64</pre>"
      ],
      "text/plain": [
       "<Array [[0.00745], [0.00746], ..., [0.00744]] type='27 * var * float64'>"
      ]
     },
     "execution_count": 27,
     "metadata": {},
     "output_type": "execute_result"
    }
   ],
   "source": [
    "# Let's examine the sum of weights. We need to turn it into an awkward array to see what we've got.\n",
    "# We see it has contains one array for each DAOD file.\n",
    "ak.Array(tot_sow_arr)"
   ]
  },
  {
   "cell_type": "code",
   "execution_count": 28,
   "id": "508db2ad-d203-4bb6-8106-0d18434c75db",
   "metadata": {},
   "outputs": [
    {
     "data": {
      "text/html": [
       "<pre>[0.00745,\n",
       " 0.00746,\n",
       " 0.00744,\n",
       " 0.00745,\n",
       " 0.00744,\n",
       " 0.00744,\n",
       " 0.00744,\n",
       " 0.00745,\n",
       " 0.00745,\n",
       " 0.0149,\n",
       " ...,\n",
       " 0.00744,\n",
       " 0.00744,\n",
       " 0.00745,\n",
       " 0.00745,\n",
       " 0.00745,\n",
       " 0.00745,\n",
       " 0.00744,\n",
       " 0.00745,\n",
       " 0.00744]\n",
       "------------------\n",
       "type: 27 * float64</pre>"
      ],
      "text/plain": [
       "<Array [0.00745, 0.00746, 0.00744, ..., 0.00745, 0.00744] type='27 * float64'>"
      ]
     },
     "execution_count": 28,
     "metadata": {},
     "output_type": "execute_result"
    }
   ],
   "source": [
    "# If we flatten this, we get rid of the arrays for each file\n",
    "ak.flatten(ak.Array(tot_sow_arr))"
   ]
  },
  {
   "cell_type": "code",
   "execution_count": 29,
   "id": "04ecd18f-2342-450f-91b8-6402154f5912",
   "metadata": {},
   "outputs": [
    {
     "name": "stdout",
     "output_type": "stream",
     "text": [
      "0.0074541582725942135\n"
     ]
    }
   ],
   "source": [
    "# If we print just the first entry, we see that in fact these are floating point numbers not integers, as we might expect for weights.\n",
    "print(ak.flatten(ak.Array(tot_sow_arr))[0])"
   ]
  },
  {
   "cell_type": "code",
   "execution_count": 30,
   "id": "adc43e1a-75a7-426f-b5aa-31a7d2996049",
   "metadata": {},
   "outputs": [
    {
     "data": {
      "text/plain": [
       "0.2233755118213594"
      ]
     },
     "execution_count": 30,
     "metadata": {},
     "output_type": "execute_result"
    }
   ],
   "source": [
    "# To get the effective number of events generated, we have to sum the sum of weights for eacg DAOD file, to get the total sum of weights.\n",
    "# This is the number which corresponds to the effective number of events generated. So if we were to divide this number by the cross section\n",
    "# for the process, that would give us the effective integrated luminosity of the sample. \n",
    "ak.sum(ak.flatten(ak.Array(tot_sow_arr)))"
   ]
  },
  {
   "cell_type": "code",
   "execution_count": 31,
   "id": "b3dfcd59-3d48-43b8-9031-eba5ef759ea9",
   "metadata": {},
   "outputs": [],
   "source": [
    "# Define histograms for the chosen variable. We'll define one without weights, and one with, so that we can see the difference. \n",
    "# Also define a histogram for the weights. The binning was chosen by trial and error. Note that there are negative weights.\n",
    "hweight = bh.Histogram(bh.axis.Regular(50, -0.1, 0.1), metadata=\"MC weights\")\n",
    "htot  = bh.Histogram(bh.axis.Regular(25, 0.0, 500000.), metadata=\"Missing ET\")\n",
    "htotw = bh.Histogram(bh.axis.Regular(25, 0.0, 500000.), metadata=\"Missing ET weighted\")"
   ]
  },
  {
   "cell_type": "code",
   "execution_count": 32,
   "id": "9e4c4b75-b5ed-4df8-9145-72dc5ed74150",
   "metadata": {},
   "outputs": [
    {
     "data": {
      "text/plain": [
       "Histogram(Regular(25, 0, 500000), storage=Double()) # Sum: 0.017908244902002934 (0.01795962536823481 with flow)"
      ]
     },
     "execution_count": 32,
     "metadata": {},
     "output_type": "execute_result"
    }
   ],
   "source": [
    "# Fill the histograms. Note that the variable array and the MC weights array have to be \"flattened\" before they can be given to the histogram,\n",
    "# since the arrays we have built are actually arrays of arrays, at least in principle, reflecting the split into separate DAOD files.\n",
    "hweight.fill(ak.flatten(weight_mc_arr))\n",
    "htot.fill(ak.flatten(met_arr))\n",
    "htotw.fill(ak.flatten(met_arr), weight=ak.flatten(weight_mc_arr))"
   ]
  },
  {
   "cell_type": "code",
   "execution_count": 33,
   "id": "5ef9e743-ad17-4527-b43e-d7f75f22bfd2",
   "metadata": {},
   "outputs": [
    {
     "data": {
      "text/plain": [
       "[StairsArtists(stairs=<matplotlib.patches.StepPatch object at 0x7fdc9aeab290>, errorbar=<ErrorbarContainer object of 3 artists>, legend_artist=<ErrorbarContainer object of 3 artists>)]"
      ]
     },
     "execution_count": 33,
     "metadata": {},
     "output_type": "execute_result"
    },
    {
     "data": {
      "image/png": "[encoded data removed]",
      "text/plain": [
       "<Figure size 640x480 with 1 Axes>"
      ]
     },
     "metadata": {},
     "output_type": "display_data"
    }
   ],
   "source": [
    "# Plot the weights\n",
    "hep.histplot(hweight)"
   ]
  },
  {
   "cell_type": "code",
   "execution_count": 34,
   "id": "d90dbc72-f9c2-4717-8e09-ac081a86bc28",
   "metadata": {},
   "outputs": [
    {
     "data": {
      "text/plain": [
       "[StairsArtists(stairs=<matplotlib.patches.StepPatch object at 0x7fdc9a981a10>, errorbar=<ErrorbarContainer object of 3 artists>, legend_artist=<ErrorbarContainer object of 3 artists>)]"
      ]
     },
     "execution_count": 34,
     "metadata": {},
     "output_type": "execute_result"
    },
    {
     "data": {
      "image/png": "[encoded data removed]",
      "text/plain": [
       "<Figure size 640x480 with 1 Axes>"
      ]
     },
     "metadata": {},
     "output_type": "display_data"
    }
   ],
   "source": [
    "# Plot the unweighted array\n",
    "hep.histplot(htot)"
   ]
  },
  {
   "cell_type": "code",
   "execution_count": 35,
   "id": "6e82b888-49cc-4fa8-a074-8b387afdb2da",
   "metadata": {},
   "outputs": [
    {
     "name": "stdout",
     "output_type": "stream",
     "text": [
      "24051.0\n"
     ]
    }
   ],
   "source": [
    "# This show the number of entries in the unweighted array. Each event is being counted once here.\n",
    "print(htot.sum())"
   ]
  },
  {
   "cell_type": "code",
   "execution_count": 36,
   "id": "697bebd5-841a-4cf3-9bfa-cd5b607cc9f8",
   "metadata": {},
   "outputs": [
    {
     "data": {
      "text/plain": [
       "[StairsArtists(stairs=<matplotlib.patches.StepPatch object at 0x7fdc9b473250>, errorbar=None, legend_artist=None)]"
      ]
     },
     "execution_count": 36,
     "metadata": {},
     "output_type": "execute_result"
    },
    {
     "data": {
      "image/png": "[encoded data removed]",
      "text/plain": [
       "<Figure size 640x480 with 1 Axes>"
      ]
     },
     "metadata": {},
     "output_type": "display_data"
    }
   ],
   "source": [
    "# Plot the weighted array. This is the one that we should actually use for physics.\n",
    "hep.histplot(htotw)"
   ]
  },
  {
   "cell_type": "code",
   "execution_count": 37,
   "id": "b808249f-c02b-449d-bfb0-7e7b0ebea43d",
   "metadata": {},
   "outputs": [
    {
     "name": "stdout",
     "output_type": "stream",
     "text": [
      "0.01795962536823481\n"
     ]
    }
   ],
   "source": [
    "# This shows the sum of weights for the weighted array. This is the effective number of events in our ntuple.\n",
    "print(htotw.sum(flow=True))"
   ]
  },
  {
   "cell_type": "code",
   "execution_count": 38,
   "id": "fb1aefa4-7314-4bfa-a346-c0105ddd7e4e",
   "metadata": {},
   "outputs": [
    {
     "data": {
      "text/plain": [
       "[StairsArtists(stairs=<matplotlib.patches.StepPatch object at 0x7fdc9a1fd790>, errorbar=None, legend_artist=None)]"
      ]
     },
     "execution_count": 38,
     "metadata": {},
     "output_type": "execute_result"
    },
    {
     "data": {
      "image/png": "[encoded data removed]",
      "text/plain": [
       "<Figure size 640x480 with 1 Axes>"
      ]
     },
     "metadata": {},
     "output_type": "display_data"
    }
   ],
   "source": [
    "# Overlay the unweighted and weighted arrays normalised to the same area. This is a test of whether the weighting actually distorts anything.\n",
    "hep.histplot(htot, density=True)\n",
    "hep.histplot(htotw, density=True)"
   ]
  },
  {
   "cell_type": "code",
   "execution_count": 39,
   "id": "08a7e611-667a-4290-8212-cb574ec7e4de",
   "metadata": {},
   "outputs": [
    {
     "name": "stdout",
     "output_type": "stream",
     "text": [
      "0.2233755118213594 0.01795962536823481 0.08040104853838098\n"
     ]
    }
   ],
   "source": [
    "# If we compare the effective number of events in our ntuple to the sum of weights for the whole sample, that gives us \n",
    "# a measure of our selection efficiency. In this case the selections are simply whatever has been imposed in terms of\n",
    "# pre-selection in producing the ntuple.\n",
    "nselected = htotw.sum(flow=True)\n",
    "ngenerated = ak.sum(ak.flatten(ak.Array(tot_sow_arr)))\n",
    "efficiency =nselected/ngenerated\n",
    "print(ngenerated, nselected, efficiency)"
   ]
  },
  {
   "cell_type": "code",
   "execution_count": 40,
   "id": "157f8cf0-6917-47a0-9b18-360135e71ba8",
   "metadata": {},
   "outputs": [
    {
     "data": {
      "text/html": [
       "<pre>[[7.38e+04, 1.4e+04, 9.83e+04, 1.32e+05, ..., 9.97e+04, 8.12e+04, 1.25e+05],\n",
       " [1.02e+05, 7.09e+04, 1.25e+05, 1.66e+05, ..., 9.59e+04, 2.06e+05, 2.23e+04],\n",
       " [2.28e+04, 7.97e+04, 1.41e+05, 4.83e+04, ..., 2.23e+05, 1.01e+05, 1.92e+05],\n",
       " [1.39e+05, 1.32e+05, 1.13e+05, 1.36e+05, ..., 1.27e+05, 2.9e+04, 1.6e+05],\n",
       " [1.08e+05, 2.72e+04, 2.02e+05, 6.32e+04, ..., 9.67e+04, 5.3e+04, 1.04e+05],\n",
       " [5.74e+04, 1.42e+05, 5.82e+04, 1.6e+05, ..., 6.88e+04, 2.45e+05, 9.15e+04],\n",
       " [1.03e+05, 7.4e+04, 2.38e+04, 1.49e+05, ..., 1.45e+05, 2.61e+05, 1.08e+05],\n",
       " [7.76e+04, 8.86e+04, 1.7e+05, 1.93e+05, ..., 1.02e+05, 6.14e+04, 5.78e+04],\n",
       " [9.89e+04, 1.2e+05, 2.16e+05, 1.98e+05, ..., 3.08e+05, 1.17e+05, 8.24e+04],\n",
       " [2.84e+05, 1.4e+05, 2.1e+05, 9.14e+04, ..., 3.11e+04, 3.75e+04, 1.16e+05],\n",
       " ...,\n",
       " [1.31e+05, 2.53e+05, 6.47e+04, 4.01e+04, ..., 8.86e+04, 1.25e+05, 1.84e+05],\n",
       " [3.55e+04, 7.09e+04, 4.71e+04, 9.22e+04, ..., 1.64e+05, 1.52e+05, 1.54e+04],\n",
       " [1.24e+05, 1.72e+05, 7.11e+04, 9.37e+04, ..., 6.21e+04, 8.31e+04, 2.37e+05],\n",
       " [1.11e+05, 5.01e+04, 5.98e+04, 1.5e+05, ..., 7.93e+04, 9.87e+04, 1.32e+05],\n",
       " [1.09e+05, 5.53e+04, 1.4e+05, 1.64e+05, ..., 5.89e+04, 2.38e+05, 2.9e+05],\n",
       " [3.13e+04, 1.13e+05, 5.48e+05, 7.94e+05, ..., 3.9e+04, 1.73e+05, 1.33e+05],\n",
       " [5.14e+04, 6.26e+04, 8.55e+04, 1.24e+05, ..., 2.25e+05, 2.53e+05, 2.68e+04],\n",
       " [8.77e+04, 2.48e+05, 7.9e+04, 7.34e+04, ..., 1.76e+05, 1.52e+03, 1.75e+05],\n",
       " [4.77e+04, 1.34e+05, 2.4e+05, 2.37e+05, ..., 8.23e+04, 4.02e+04, 2.77e+04]]\n",
       "-----------------------------------------------------------------------------\n",
       "type: 27 * var * float64</pre>"
      ],
      "text/plain": [
       "<Array [[7.38e+04, 1.4e+04, ..., 1.25e+05], ...] type='27 * var * float64'>"
      ]
     },
     "execution_count": 40,
     "metadata": {},
     "output_type": "execute_result"
    }
   ],
   "source": [
    "# Let's look at the structure of the MET array, for clarity, after turning it into an awkward array. We see that there is an array for each DAOD file.\n",
    "ak.Array(met_arr)"
   ]
  },
  {
   "cell_type": "code",
   "execution_count": 41,
   "id": "0fa4af71-8265-438f-9286-599293649065",
   "metadata": {},
   "outputs": [
    {
     "data": {
      "text/html": [
       "<pre>[7.38e+04,\n",
       " 1.4e+04,\n",
       " 9.83e+04,\n",
       " 1.32e+05,\n",
       " 1.37e+05,\n",
       " 1.61e+05,\n",
       " 1.32e+05,\n",
       " 1.21e+05,\n",
       " 1.29e+05,\n",
       " 1.07e+05,\n",
       " ...,\n",
       " 6.91e+04,\n",
       " 1.13e+05,\n",
       " 4.06e+04,\n",
       " 9.25e+04,\n",
       " 1.27e+05,\n",
       " 2.69e+05,\n",
       " 8.23e+04,\n",
       " 4.02e+04,\n",
       " 2.77e+04]\n",
       "---------------------\n",
       "type: 24120 * float64</pre>"
      ],
      "text/plain": [
       "<Array [7.38e+04, 1.4e+04, ..., 4.02e+04, 2.77e+04] type='24120 * float64'>"
      ]
     },
     "execution_count": 41,
     "metadata": {},
     "output_type": "execute_result"
    }
   ],
   "source": [
    "# And the same after we flatten it. Now the length corresponds to the number of events across all DAOD files, unweighted.\n",
    "ak.flatten(ak.Array(met_arr))"
   ]
  },
  {
   "cell_type": "code",
   "execution_count": 42,
   "id": "e0329788-fe8e-45b1-8481-d40c36e9aa1d",
   "metadata": {},
   "outputs": [
    {
     "data": {
      "text/html": [
       "<pre>[7.45e-07,\n",
       " 7.45e-07,\n",
       " 7.45e-07,\n",
       " 7.45e-07,\n",
       " 7.45e-07,\n",
       " 7.45e-07,\n",
       " 7.45e-07,\n",
       " 7.45e-07,\n",
       " 7.45e-07,\n",
       " 7.45e-07,\n",
       " ...,\n",
       " 7.43e-07,\n",
       " 7.43e-07,\n",
       " 7.43e-07,\n",
       " 7.43e-07,\n",
       " 7.43e-07,\n",
       " 7.43e-07,\n",
       " 7.43e-07,\n",
       " 7.43e-07,\n",
       " 7.43e-07]\n",
       "---------------------\n",
       "type: 24120 * float64</pre>"
      ],
      "text/plain": [
       "<Array [7.45e-07, 7.45e-07, ..., 7.43e-07, 7.43e-07] type='24120 * float64'>"
      ]
     },
     "execution_count": 42,
     "metadata": {},
     "output_type": "execute_result"
    }
   ],
   "source": [
    "# The weights array has the same structure as the variable itself, here after flattening.\n",
    "ak.flatten(ak.Array(weight_mc_arr))"
   ]
  },
  {
   "cell_type": "code",
   "execution_count": null,
   "id": "e9052bd0-5d69-40ce-858d-58efb310006e",
   "metadata": {},
   "outputs": [],
   "source": []
  },
  {
   "cell_type": "code",
   "execution_count": null,
   "id": "790f6446-68cc-4a51-80e1-b99251134c21",
   "metadata": {},
   "outputs": [],
   "source": []
  }
 ],
 "metadata": {
  "kernelspec": {
   "display_name": "Python 3 (ipykernel)",
   "language": "python",
   "name": "python3"
  },
  "language_info": {
   "codemirror_mode": {
    "name": "ipython",
    "version": 3
   },
   "file_extension": ".py",
   "mimetype": "text/x-python",
   "name": "python",
   "nbconvert_exporter": "python",
   "pygments_lexer": "ipython3",
   "version": "3.11.4"
  }
 },
 "nbformat": 4,
 "nbformat_minor": 5
}
