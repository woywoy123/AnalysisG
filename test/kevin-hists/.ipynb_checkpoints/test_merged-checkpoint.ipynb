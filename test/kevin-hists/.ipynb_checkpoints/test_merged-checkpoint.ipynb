{
 "cells": [
  {
   "cell_type": "code",
   "execution_count": 1,
   "id": "1f3c1c8d-38af-4574-8a4b-e5a4985cbf63",
   "metadata": {},
   "outputs": [
    {
     "data": {
      "text/html": [
       "<style>.jp-OutputArea-output {display:flex}</style>"
      ],
      "text/plain": [
       "<IPython.core.display.HTML object>"
      ]
     },
     "metadata": {},
     "output_type": "display_data"
    }
   ],
   "source": [
    "# This to allow horizontal scrolling\n",
    "from IPython.display import display, HTML\n",
    "display(HTML(\"<style>.jp-OutputArea-output {display:flex}</style>\"))"
   ]
  },
  {
   "cell_type": "code",
   "execution_count": 2,
   "id": "ee71bedb-7869-4402-9532-f47ad5a23273",
   "metadata": {},
   "outputs": [],
   "source": [
    "%matplotlib inline\n",
    "\n",
    "import pandas as pd\n",
    "import matplotlib.pyplot as plt\n",
    "import seaborn as sns\n",
    "import numpy as np\n",
    "import uproot\n",
    "import awkward as ak\n",
    "\n",
    "sns.set(style=\"darkgrid\")\n",
    "\n",
    "from hepunits.units import nb, pb, invpb, fb, invfb"
   ]
  },
  {
   "cell_type": "code",
   "execution_count": 3,
   "id": "5911a0e1-3143-46f1-a594-e3dbdfcae4fa",
   "metadata": {},
   "outputs": [],
   "source": [
    "pd.set_option('display.width', 1000)\n",
    "pd.set_option('display.max_columns', None)  \n",
    "pd.set_option('display.max_rows', None)\n",
    "pd.set_option('display.expand_frame_repr', True)\n",
    "pd.set_option('max_colwidth', None)"
   ]
  },
  {
   "cell_type": "markdown",
   "id": "ec40c845-8020-400f-9764-81fb93fe3cac",
   "metadata": {},
   "source": [
    "Let's look at a DAOD file from the tttt sample"
   ]
  },
  {
   "cell_type": "code",
   "execution_count": null,
   "id": "19247f19-58f2-485e-a1d1-bc1d2495259b",
   "metadata": {},
   "outputs": [],
   "source": [
    "file =  uproot.open(\"/import/wu1/tnom6927/sorted_samples/DileptonCollection/aMcAtNloPythia8EvtGen_A14NNPDF31_SM4topsNLO/DAOD_TOPQ1.27733779._000001.root\")"
   ]
  },
  {
   "cell_type": "code",
   "execution_count": 31,
   "id": "b03f69b9-7c04-4266-971c-b21473317eba",
   "metadata": {},
   "outputs": [
    {
     "data": {
      "text/plain": [
       "{'dsid': 'int32_t',\n",
       " 'isAFII': 'int32_t',\n",
       " 'generators': 'std::string',\n",
       " 'AMITag': 'std::string',\n",
       " 'totalEventsWeighted': 'float',\n",
       " 'totalEvents': 'uint64_t',\n",
       " 'processedEvents': 'uint64_t',\n",
       " 'processedEventsWeighted': 'float',\n",
       " 'processedEventsWeightedSquared': 'float'}"
      ]
     },
     "execution_count": 31,
     "metadata": {},
     "output_type": "execute_result"
    }
   ],
   "source": [
    "sumweights = file[\"sumWeights\"]\n",
    "sumweights.typenames()"
   ]
  },
  {
   "cell_type": "code",
   "execution_count": 54,
   "id": "3910360d-50fb-4a59-94a2-a27dce6ac594",
   "metadata": {},
   "outputs": [
    {
     "name": "stdout",
     "output_type": "stream",
     "text": [
      "[412043]\n",
      "[1]\n",
      "['aMcAtNlo+Pythia8+EvtGen']\n",
      "['r10201_r10201_r10201_r10201_r10201_r10210_p4514']\n",
      "[108]\n",
      "[10000]\n",
      "[10000]\n",
      "[108]\n",
      "[9.26]\n"
     ]
    }
   ],
   "source": [
    "print(sumweights[\"dsid\"].array())\n",
    "print(sumweights[\"isAFII\"].array())\n",
    "print(sumweights[\"generators\"].array())\n",
    "print(sumweights[\"AMITag\"].array())\n",
    "print(sumweights[\"totalEventsWeighted\"].array())\n",
    "print(sumweights[\"totalEvents\"].array())\n",
    "print(sumweights[\"processedEvents\"].array())\n",
    "print(sumweights[\"processedEventsWeighted\"].array())\n",
    "print(sumweights[\"processedEventsWeightedSquared\"].array())"
   ]
  },
  {
   "cell_type": "code",
   "execution_count": 52,
   "id": "12821d88-96db-408f-ad44-71ff3abee52c",
   "metadata": {},
   "outputs": [
    {
     "data": {
      "text/plain": [
       "108.41329"
      ]
     },
     "execution_count": 52,
     "metadata": {},
     "output_type": "execute_result"
    }
   ],
   "source": [
    "sumweights[\"totalEventsWeighted\"].array()[0]"
   ]
  },
  {
   "cell_type": "code",
   "execution_count": 45,
   "id": "910e6761-7484-47bc-b7e3-40f0257ea65e",
   "metadata": {},
   "outputs": [
    {
     "name": "stdout",
     "output_type": "stream",
     "text": [
      "<TTree 'sumWeights' (9 branches) at 0x7f5148e62bd0>\n"
     ]
    }
   ],
   "source": [
    "print(sumweights)"
   ]
  },
  {
   "cell_type": "code",
   "execution_count": null,
   "id": "11e6336f-56c5-4031-a377-0d8776650763",
   "metadata": {},
   "outputs": [],
   "source": [
    "nominal  = file[\"nominal\"]\n",
    "nominal.typenames()"
   ]
  },
  {
   "cell_type": "code",
   "execution_count": 5,
   "id": "bd107f14-d09f-4216-85d9-a25685a63a90",
   "metadata": {},
   "outputs": [
    {
     "name": "stdout",
     "output_type": "stream",
     "text": [
      "[-0.0304, 0.0304, 0.0304, -0.0304, 0.0304, ..., 0.0304, 0.0304, 0.0304, 0.0304]\n"
     ]
    }
   ],
   "source": [
    "weight_mc = nominal[\"weight_mc\"].array()\n",
    "print(weight_mc)"
   ]
  },
  {
   "cell_type": "code",
   "execution_count": 6,
   "id": "876ce594-d0f5-48c1-8b1d-91610b59583f",
   "metadata": {},
   "outputs": [
    {
     "name": "stdout",
     "output_type": "stream",
     "text": [
      "628 628\n"
     ]
    }
   ],
   "source": [
    "el_pt   = nominal[\"el_pt\"].array()\n",
    "mu_pt   = nominal[\"mu_pt\"].array()\n",
    "print(len(el_pt), len(mu_pt))"
   ]
  },
  {
   "cell_type": "code",
   "execution_count": 7,
   "id": "a7cf1e76-ad89-45cc-989d-4501c4995c8f",
   "metadata": {},
   "outputs": [],
   "source": [
    "# nominal.all_members\n",
    "# nominal.typenames()\n",
    "# nominal.show()"
   ]
  },
  {
   "cell_type": "code",
   "execution_count": 8,
   "id": "4836c566-ef60-44b6-a608-7a4b1a3f809f",
   "metadata": {},
   "outputs": [
    {
     "name": "stdout",
     "output_type": "stream",
     "text": [
      "[[7.94e+04, 7.19e+04],\n",
      " [],\n",
      " [],\n",
      " [5.47e+04],\n",
      " [2.8e+04],\n",
      " [],\n",
      " [7.9e+04, 3.16e+04],\n",
      " [2.27e+05, 2.12e+05],\n",
      " [1.1e+05],\n",
      " [7.96e+04],\n",
      " ...,\n",
      " [3.37e+04],\n",
      " [6.49e+04],\n",
      " [1.15e+05],\n",
      " [],\n",
      " [8.38e+04],\n",
      " [],\n",
      " [],\n",
      " [1.18e+05, 5.64e+04, 4.62e+04],\n",
      " [1.11e+05]]\n"
     ]
    }
   ],
   "source": [
    "el_pt.show()"
   ]
  },
  {
   "cell_type": "code",
   "execution_count": 9,
   "id": "8e528aff-0de1-48ff-8462-1520d14c9ae7",
   "metadata": {},
   "outputs": [
    {
     "name": "stdout",
     "output_type": "stream",
     "text": [
      "[[7.05e+04],\n",
      " [1.78e+05, 5.95e+04],\n",
      " [9.23e+04, 2.82e+04],\n",
      " [7.11e+04],\n",
      " [3.23e+05],\n",
      " [1.27e+05, 1.14e+05],\n",
      " [],\n",
      " [],\n",
      " [3.56e+04],\n",
      " [4.26e+04],\n",
      " ...,\n",
      " [3.45e+04],\n",
      " [3.78e+04],\n",
      " [1.4e+05],\n",
      " [1.03e+05, 6.47e+04, 4.42e+04],\n",
      " [5.79e+04],\n",
      " [7.73e+04, 5.09e+04],\n",
      " [1.18e+05, 3.34e+04],\n",
      " [],\n",
      " [2.18e+05, 3.17e+04]]\n"
     ]
    }
   ],
   "source": [
    "mu_pt.show()"
   ]
  },
  {
   "cell_type": "code",
   "execution_count": 10,
   "id": "a8ed7b90-09dc-4d95-8552-201464238e9f",
   "metadata": {},
   "outputs": [
    {
     "data": {
      "text/plain": [
       "628"
      ]
     },
     "execution_count": 10,
     "metadata": {},
     "output_type": "execute_result"
    }
   ],
   "source": [
    "len(el_pt)"
   ]
  },
  {
   "cell_type": "code",
   "execution_count": 11,
   "id": "58b41743-6474-4987-a6f5-38f21ded0807",
   "metadata": {},
   "outputs": [
    {
     "data": {
      "text/html": [
       "<pre>[2,\n",
       " 0,\n",
       " 0,\n",
       " 1,\n",
       " 1,\n",
       " 0,\n",
       " 2,\n",
       " 2,\n",
       " 1,\n",
       " 1,\n",
       " ...,\n",
       " 1,\n",
       " 1,\n",
       " 1,\n",
       " 0,\n",
       " 1,\n",
       " 0,\n",
       " 0,\n",
       " 3,\n",
       " 1]\n",
       "-----------------\n",
       "type: 628 * int64</pre>"
      ],
      "text/plain": [
       "<Array [2, 0, 0, 1, 1, 0, 2, 2, ..., 1, 1, 0, 1, 0, 0, 3, 1] type='628 * int64'>"
      ]
     },
     "execution_count": 11,
     "metadata": {},
     "output_type": "execute_result"
    }
   ],
   "source": [
    "ak.num(el_pt, axis=1)"
   ]
  },
  {
   "cell_type": "code",
   "execution_count": 12,
   "id": "5ee5c088-40bc-4f6a-9f69-774604365e3c",
   "metadata": {},
   "outputs": [
    {
     "name": "stdout",
     "output_type": "stream",
     "text": [
      "[[7.94e+04, 7.19e+04, 7.05e+04],\n",
      " [1.78e+05, 5.95e+04],\n",
      " [9.23e+04, 2.82e+04],\n",
      " [5.47e+04, 7.11e+04],\n",
      " [2.8e+04, 3.23e+05],\n",
      " [1.27e+05, 1.14e+05],\n",
      " [7.9e+04, 3.16e+04],\n",
      " [2.27e+05, 2.12e+05],\n",
      " [1.1e+05, 3.56e+04],\n",
      " [7.96e+04, 4.26e+04],\n",
      " ...,\n",
      " [3.37e+04, 3.45e+04],\n",
      " [6.49e+04, 3.78e+04],\n",
      " [1.15e+05, 1.4e+05],\n",
      " [1.03e+05, 6.47e+04, 4.42e+04],\n",
      " [8.38e+04, 5.79e+04],\n",
      " [7.73e+04, 5.09e+04],\n",
      " [1.18e+05, 3.34e+04],\n",
      " [1.18e+05, 5.64e+04, 4.62e+04],\n",
      " [1.11e+05, 2.18e+05, 3.17e+04]]\n"
     ]
    }
   ],
   "source": [
    "lep_pt = ak.concatenate([el_pt, mu_pt], axis=1)\n",
    "lep_pt.show()"
   ]
  },
  {
   "cell_type": "code",
   "execution_count": 13,
   "id": "f51016da-6a29-4e12-892c-3e715afc891b",
   "metadata": {},
   "outputs": [],
   "source": [
    "import boost_histogram as bh\n",
    "import matplotlib.pyplot as plt\n",
    "\n",
    "import mplhep as hep\n",
    "#plt.style.use(hep.style.ATLAS)"
   ]
  },
  {
   "cell_type": "code",
   "execution_count": 14,
   "id": "8761bcbb-f1b3-405d-b159-d275b63db60c",
   "metadata": {},
   "outputs": [],
   "source": [
    "hist0 = bh.Histogram(bh.axis.Regular(50, -0.1, 0.1))\n",
    "hist1 = bh.Histogram(bh.axis.Integer(0, 5, metadata=\"Number of electrons\"))\n",
    "hist2 = bh.Histogram(bh.axis.Integer(0, 5, metadata=\"Number of muons\"))\n",
    "hist3 = bh.Histogram(bh.axis.Integer(0, 5, metadata=\"Number of leptons\"))"
   ]
  },
  {
   "cell_type": "code",
   "execution_count": 15,
   "id": "61e9bde2-b6e8-4892-81a5-8dac9083851d",
   "metadata": {},
   "outputs": [
    {
     "data": {
      "text/plain": [
       "Histogram(Integer(0, 5, metadata='Number of leptons'), storage=Double()) # Sum: 628.0"
      ]
     },
     "execution_count": 15,
     "metadata": {},
     "output_type": "execute_result"
    }
   ],
   "source": [
    "hist0.fill(weight_mc)\n",
    "hist1.fill(ak.num(el_pt, axis=1))\n",
    "hist2.fill(ak.num(mu_pt, axis=1))\n",
    "hist3.fill(ak.num(lep_pt, axis=1))"
   ]
  },
  {
   "cell_type": "code",
   "execution_count": 16,
   "id": "90ea6351-fd87-4444-b864-564f4bfef7c8",
   "metadata": {},
   "outputs": [
    {
     "data": {
      "text/plain": [
       "[StairsArtists(stairs=<matplotlib.patches.StepPatch object at 0x7f51493dd550>, errorbar=<ErrorbarContainer object of 3 artists>, legend_artist=<ErrorbarContainer object of 3 artists>)]"
      ]
     },
     "execution_count": 16,
     "metadata": {},
     "output_type": "execute_result"
    },
    {
     "name": "stderr",
     "output_type": "stream",
     "text": [
      "/usr/physics/hep/mambaforge/envs/prod/lib/python3.11/site-packages/IPython/core/events.py:93: UserWarning: Glyph 8722 (\\N{MINUS SIGN}) missing from current font.\n",
      "  func(*args, **kwargs)\n",
      "/usr/physics/hep/mambaforge/envs/prod/lib/python3.11/site-packages/IPython/core/pylabtools.py:152: UserWarning: Glyph 8722 (\\N{MINUS SIGN}) missing from current font.\n",
      "  fig.canvas.print_figure(bytes_io, **kw)\n"
     ]
    },
    {
     "data": {
      "image/png": "[encoded data removed]",
      "text/plain": [
       "<Figure size 640x480 with 1 Axes>"
      ]
     },
     "metadata": {},
     "output_type": "display_data"
    }
   ],
   "source": [
    "hep.histplot(hist0)"
   ]
  },
  {
   "cell_type": "code",
   "execution_count": 17,
   "id": "95d9dd7c-d52d-43f6-be71-9fc677ce7295",
   "metadata": {},
   "outputs": [
    {
     "data": {
      "text/plain": [
       "[StairsArtists(stairs=<matplotlib.patches.StepPatch object at 0x7f51493cb350>, errorbar=<ErrorbarContainer object of 3 artists>, legend_artist=<ErrorbarContainer object of 3 artists>)]"
      ]
     },
     "execution_count": 17,
     "metadata": {},
     "output_type": "execute_result"
    },
    {
     "data": {
      "image/png": "[encoded data removed]",
      "text/plain": [
       "<Figure size 640x480 with 1 Axes>"
      ]
     },
     "metadata": {},
     "output_type": "display_data"
    }
   ],
   "source": [
    "hep.histplot(hist1)"
   ]
  },
  {
   "cell_type": "code",
   "execution_count": 18,
   "id": "b580044e-9720-4c67-ae7d-701a561877f7",
   "metadata": {},
   "outputs": [
    {
     "name": "stdout",
     "output_type": "stream",
     "text": [
      "       ┌─────────────────────────────────────────────────────────────────────┐\n",
      "-1 0   │                                                                     │\n",
      " 0 172 │████████████████████████████████████▉                                │\n",
      " 1 317 │████████████████████████████████████████████████████████████████████ │\n",
      " 2 133 │████████████████████████████▌                                        │\n",
      " 3 6   │█▎                                                                   │\n",
      " 4 0   │                                                                     │\n",
      " 5 0   │                                                                     │\n",
      "       └─────────────────────────────────────────────────────────────────────┘\n"
     ]
    }
   ],
   "source": [
    "print(hist1)"
   ]
  },
  {
   "cell_type": "code",
   "execution_count": 19,
   "id": "6a0d35fa-9624-400f-b60a-8cc1e83449e0",
   "metadata": {},
   "outputs": [
    {
     "data": {
      "text/plain": [
       "[StairsArtists(stairs=<matplotlib.patches.StepPatch object at 0x7f5140cf5110>, errorbar=<ErrorbarContainer object of 3 artists>, legend_artist=<ErrorbarContainer object of 3 artists>)]"
      ]
     },
     "execution_count": 19,
     "metadata": {},
     "output_type": "execute_result"
    },
    {
     "data": {
      "image/png": "[encoded data removed]",
      "text/plain": [
       "<Figure size 640x480 with 1 Axes>"
      ]
     },
     "metadata": {},
     "output_type": "display_data"
    }
   ],
   "source": [
    "hep.histplot(hist2)"
   ]
  },
  {
   "cell_type": "code",
   "execution_count": 20,
   "id": "a845b87a-5898-4cad-913b-08f895c8e004",
   "metadata": {},
   "outputs": [
    {
     "name": "stdout",
     "output_type": "stream",
     "text": [
      "       ┌─────────────────────────────────────────────────────────────────────┐\n",
      "-1 0   │                                                                     │\n",
      " 0 118 │████████████████████████▉                                            │\n",
      " 1 323 │████████████████████████████████████████████████████████████████████ │\n",
      " 2 175 │████████████████████████████████████▉                                │\n",
      " 3 12  │██▌                                                                  │\n",
      " 4 0   │                                                                     │\n",
      " 5 0   │                                                                     │\n",
      "       └─────────────────────────────────────────────────────────────────────┘\n"
     ]
    }
   ],
   "source": [
    "print(hist2)"
   ]
  },
  {
   "cell_type": "code",
   "execution_count": 21,
   "id": "3e22e475-e18e-4acd-b43a-d44a94f71f1f",
   "metadata": {},
   "outputs": [
    {
     "data": {
      "text/plain": [
       "[StairsArtists(stairs=<matplotlib.patches.StepPatch object at 0x7f5140c2bd10>, errorbar=<ErrorbarContainer object of 3 artists>, legend_artist=<ErrorbarContainer object of 3 artists>)]"
      ]
     },
     "execution_count": 21,
     "metadata": {},
     "output_type": "execute_result"
    },
    {
     "data": {
      "image/png": "[encoded data removed]",
      "text/plain": [
       "<Figure size 640x480 with 1 Axes>"
      ]
     },
     "metadata": {},
     "output_type": "display_data"
    }
   ],
   "source": [
    "hep.histplot(hist3)"
   ]
  },
  {
   "cell_type": "code",
   "execution_count": 22,
   "id": "ad6263af-b1a7-4809-8bf9-e42c620d5ede",
   "metadata": {},
   "outputs": [
    {
     "name": "stdout",
     "output_type": "stream",
     "text": [
      "       ┌─────────────────────────────────────────────────────────────────────┐\n",
      "-1 0   │                                                                     │\n",
      " 0 0   │                                                                     │\n",
      " 1 0   │                                                                     │\n",
      " 2 574 │████████████████████████████████████████████████████████████████████ │\n",
      " 3 54  │██████▍                                                              │\n",
      " 4 0   │                                                                     │\n",
      " 5 0   │                                                                     │\n",
      "       └─────────────────────────────────────────────────────────────────────┘\n"
     ]
    }
   ],
   "source": [
    "print(hist3)"
   ]
  },
  {
   "cell_type": "code",
   "execution_count": 23,
   "id": "da5c282b-f6df-4d16-803d-b63e396f3b20",
   "metadata": {},
   "outputs": [],
   "source": [
    "el_charge  = nominal[\"el_charge\"].array()\n",
    "mu_charge  = nominal[\"mu_charge\"].array()"
   ]
  },
  {
   "cell_type": "code",
   "execution_count": 24,
   "id": "ee31900f-e3a0-4f94-8765-dbf5de4d5c77",
   "metadata": {},
   "outputs": [
    {
     "name": "stdout",
     "output_type": "stream",
     "text": [
      "[[-1, -1, 1],\n",
      " [1, 1],\n",
      " [-1, -1],\n",
      " [1, -1],\n",
      " [1, 1],\n",
      " [1, 1],\n",
      " [1, 1],\n",
      " [-1, 1],\n",
      " [1, 1],\n",
      " [-1, 1],\n",
      " ...,\n",
      " [1, -1],\n",
      " [1, -1],\n",
      " [-1, -1],\n",
      " [-1, 1, 1],\n",
      " [1, -1],\n",
      " [1, -1],\n",
      " [-1, -1],\n",
      " [1, -1, 1],\n",
      " [1, 1, -1]]\n"
     ]
    }
   ],
   "source": [
    "lep_charge = ak.concatenate([el_charge, mu_charge], axis=1)\n",
    "lep_charge.show()"
   ]
  },
  {
   "cell_type": "code",
   "execution_count": 25,
   "id": "bd610816-ef82-497f-aac7-6c08e7bab980",
   "metadata": {},
   "outputs": [],
   "source": [
    "#from plothist import make_hist, plot_hist\n",
    "#import matplotlib.pyplot as plt\n",
    "\n",
    "#name = \"Number of electrons\"\n",
    "\n",
    "#fig, ax = plt.subplots()\n",
    "\n",
    "#h = make_hist(ak.num(el_pt, axis=1))\n",
    "\n",
    "#plot_hist(h, ax=ax)\n",
    "\n",
    "#ax.set_xlabel(name)\n",
    "#ax.set_ylabel(\"Entries\")\n",
    "\n",
    "#fig.savefig(\"Nelec.svg\", bbox_inches=\"tight\")"
   ]
  },
  {
   "cell_type": "code",
   "execution_count": null,
   "id": "a09ac4d3-c674-47ee-90ca-9748ff116f52",
   "metadata": {},
   "outputs": [],
   "source": []
  }
 ],
 "metadata": {
  "kernelspec": {
   "display_name": "Python 3 (ipykernel)",
   "language": "python",
   "name": "python3"
  },
  "language_info": {
   "codemirror_mode": {
    "name": "ipython",
    "version": 3
   },
   "file_extension": ".py",
   "mimetype": "text/x-python",
   "name": "python",
   "nbconvert_exporter": "python",
   "pygments_lexer": "ipython3",
   "version": "3.11.4"
  }
 },
 "nbformat": 4,
 "nbformat_minor": 5
}
